{
 "cells": [
  {
   "cell_type": "code",
   "execution_count": 1,
   "id": "97a-4ewLUmQd",
   "metadata": {
    "colab": {
     "base_uri": "https://localhost:8080/"
    },
    "id": "97a-4ewLUmQd",
    "outputId": "21157ca0-d381-4275-a0e1-56954f37bb1c"
   },
   "outputs": [
    {
     "name": "stdout",
     "output_type": "stream",
     "text": [
      "Mounted at /content/drive\n"
     ]
    }
   ],
   "source": [
    "from google.colab import drive\n",
    "drive.mount('/content/drive')"
   ]
  },
  {
   "cell_type": "code",
   "execution_count": 33,
   "id": "20a6821c",
   "metadata": {
    "id": "20a6821c"
   },
   "outputs": [],
   "source": [
    "import os\n",
    "import datetime\n",
    "import time\n",
    "import pandas as pd\n",
    "import numpy as np\n",
    "import matplotlib.pyplot as plt\n",
    "import pickle\n",
    "import statsmodels.api as sm\n",
    "import statsmodels.formula.api as smf\n",
    "from scipy.ndimage.filters import uniform_filter1d\n",
    "from sklearn.linear_model import LinearRegression\n",
    "from sklearn.linear_model import RidgeCV\n",
    "from sklearn.svm import SVR\n",
    "from sklearn.feature_selection import RFE\n",
    "from scipy.stats import t as TD"
   ]
  },
  {
   "cell_type": "code",
   "execution_count": 3,
   "id": "b4d95d01",
   "metadata": {
    "id": "b4d95d01"
   },
   "outputs": [],
   "source": [
    "log_pr = pd.read_pickle(\"/content/drive/My Drive/STATS601/log_price_drive_new.df\")\n",
    "volu = pd.read_pickle(\"/content/drive/My Drive/STATS601/volu_drive_new.df\")\n",
    "\n",
    "\n",
    "log_pr['timestamp'] = pd.to_datetime(log_pr['timestamp'])\n",
    "log_pr.set_index('timestamp', inplace=True)\n",
    "\n",
    "volu['timestamp'] = pd.to_datetime(volu['timestamp'])\n",
    "volu.set_index('timestamp', inplace=True)"
   ]
  },
  {
   "cell_type": "code",
   "execution_count": 4,
   "id": "3272ecfd",
   "metadata": {
    "id": "3272ecfd"
   },
   "outputs": [],
   "source": [
    "# moving averages of different time span\n",
    "def mov_avg(A, B, window_length=60):\n",
    "    # Input: two 1440 x 1 numpy arrays\n",
    "    # Output: two 288 x 1 numpy arrays\n",
    "    \n",
    "    pr_avg = uniform_filter1d(A, size=window_length, mode='nearest')[::30]\n",
    "    vo_avg = uniform_filter1d(B, size=window_length, mode='nearest')[::30]\n",
    "\n",
    "    return pr_avg[-10:], vo_avg[-5:]"
   ]
  },
  {
   "cell_type": "code",
   "execution_count": 5,
   "id": "6ef2edd4",
   "metadata": {
    "id": "6ef2edd4"
   },
   "outputs": [],
   "source": [
    "def MACD(A):\n",
    "    # Input: 1440 x 1 DataFrame\n",
    "    # Output: two 1440 x 1 numpy array\n",
    "    df = np.exp(A)\n",
    "        \n",
    "    # Get the 26-day EMA of the closing price\n",
    "    k = df.ewm(span=26, adjust=False, min_periods=26).mean()\n",
    "    # Get the 12-day EMA of the closing price\n",
    "    d = df.ewm(span=12, adjust=False, min_periods=12).mean()\n",
    "\n",
    "    # Subtract the 26-day EMA from the 12-Day EMA to get the MACD\n",
    "    macd = k - d\n",
    "\n",
    "    # Get the 9-Day EMA of the MACD for the Trigger line\n",
    "    macd_s = np.array(macd.ewm(span=9, adjust=False, min_periods=9).mean())\n",
    "\n",
    "    # Calculate the difference between the MACD - Trigger for the Convergence/Divergence value\n",
    "    #macd_h = macd - macd_s\n",
    "    \n",
    "    return np.array(macd), macd_s #, macd_h"
   ]
  },
  {
   "cell_type": "code",
   "execution_count": 6,
   "id": "9c5d46ba",
   "metadata": {
    "id": "9c5d46ba"
   },
   "outputs": [],
   "source": [
    "def np_ewma_vectorized(data, window, method = \"WMS\"):\n",
    "\n",
    "    if method == \"WMS\":\n",
    "        alpha = 1 / window\n",
    "    elif method == \"EMA\":\n",
    "        alpha = 2 / (window + 1.0)\n",
    "    alpha_rev = 1 - alpha\n",
    "    n = data.shape[0]\n",
    "\n",
    "    pows = alpha_rev**(np.arange(n+1))\n",
    "\n",
    "    scale_arr = 1 / pows[:-1]\n",
    "    offset = data[0] * pows[1:]\n",
    "    pw0 = alpha * alpha_rev**(n-1)\n",
    "\n",
    "    mult = data * pw0 * scale_arr\n",
    "    cumsums = mult.cumsum()\n",
    "    out = offset + cumsums * scale_arr[::-1]\n",
    "    return out\n",
    "\n",
    "\n",
    "def MACD(A):\n",
    "    # Input: 1440 x 1 DataFrame\n",
    "    # Output: two 1440 x 1 numpy array\n",
    "    A = np.exp(A)\n",
    "        \n",
    "    # Get the 26-day EMA of the closing price\n",
    "    k = np_ewma_vectorized(A, 26)\n",
    "    # Get the 12-day EMA of the closing price\n",
    "    d = np_ewma_vectorized(A, 12)\n",
    "\n",
    "    # Subtract the 26-day EMA from the 12-Day EMA to get the MACD\n",
    "    macd = k - d\n",
    "\n",
    "    #Get the 9-Day EMA of the MACD for the Trigger line\n",
    "    macd_s = np.array(np_ewma_vectorized(macd, 9))\n",
    "\n",
    "    # Calculate the difference between the MACD - Trigger for the Convergence/Divergence value\n",
    "    #macd_h = macd - macd_s\n",
    "    \n",
    "    return k, d, np.array(macd)#, macd_s#, macd_h"
   ]
  },
  {
   "cell_type": "code",
   "execution_count": 7,
   "id": "80b5f499",
   "metadata": {
    "colab": {
     "base_uri": "https://localhost:8080/",
     "height": 240
    },
    "id": "80b5f499",
    "outputId": "c42506ce-ce20-4d7a-c872-81b3ec916bee"
   },
   "outputs": [
    {
     "ename": "ValueError",
     "evalue": "ignored",
     "output_type": "error",
     "traceback": [
      "\u001b[0;31m---------------------------------------------------------------------------\u001b[0m",
      "\u001b[0;31mValueError\u001b[0m                                Traceback (most recent call last)",
      "\u001b[0;32m<ipython-input-7-de0b7d951059>\u001b[0m in \u001b[0;36m<module>\u001b[0;34m()\u001b[0m\n\u001b[1;32m      1\u001b[0m \u001b[0mA\u001b[0m \u001b[0;34m=\u001b[0m \u001b[0mlog_pr\u001b[0m\u001b[0;34m.\u001b[0m\u001b[0miloc\u001b[0m\u001b[0;34m[\u001b[0m\u001b[0;36m20000\u001b[0m\u001b[0;34m:\u001b[0m\u001b[0;36m21440\u001b[0m\u001b[0;34m:\u001b[0m\u001b[0;36m30\u001b[0m\u001b[0;34m,\u001b[0m\u001b[0;36m0\u001b[0m\u001b[0;34m]\u001b[0m\u001b[0;34m\u001b[0m\u001b[0;34m\u001b[0m\u001b[0m\n\u001b[0;32m----> 2\u001b[0;31m \u001b[0mk\u001b[0m\u001b[0;34m,\u001b[0m \u001b[0md\u001b[0m\u001b[0;34m,\u001b[0m \u001b[0mmacd1\u001b[0m\u001b[0;34m,\u001b[0m \u001b[0mmacd2\u001b[0m \u001b[0;34m=\u001b[0m \u001b[0mMACD\u001b[0m\u001b[0;34m(\u001b[0m\u001b[0mA\u001b[0m\u001b[0;34m)\u001b[0m\u001b[0;34m\u001b[0m\u001b[0;34m\u001b[0m\u001b[0m\n\u001b[0m\u001b[1;32m      3\u001b[0m \u001b[0mplt\u001b[0m\u001b[0;34m.\u001b[0m\u001b[0mplot\u001b[0m\u001b[0;34m(\u001b[0m\u001b[0mA\u001b[0m\u001b[0;34m)\u001b[0m\u001b[0;34m\u001b[0m\u001b[0;34m\u001b[0m\u001b[0m\n\u001b[1;32m      4\u001b[0m \u001b[0;31m#plt.plot(k)\u001b[0m\u001b[0;34m\u001b[0m\u001b[0;34m\u001b[0m\u001b[0;34m\u001b[0m\u001b[0m\n\u001b[1;32m      5\u001b[0m \u001b[0;31m#plt.plot(d)\u001b[0m\u001b[0;34m\u001b[0m\u001b[0;34m\u001b[0m\u001b[0;34m\u001b[0m\u001b[0m\n",
      "\u001b[0;31mValueError\u001b[0m: not enough values to unpack (expected 4, got 3)"
     ]
    }
   ],
   "source": [
    "A = log_pr.iloc[20000:21440:30,0]\n",
    "k, d, macd1, macd2 = MACD(A)\n",
    "plt.plot(A)\n",
    "#plt.plot(k)\n",
    "#plt.plot(d)"
   ]
  },
  {
   "cell_type": "code",
   "execution_count": 8,
   "id": "d872c6a6",
   "metadata": {
    "colab": {
     "base_uri": "https://localhost:8080/",
     "height": 186
    },
    "id": "d872c6a6",
    "outputId": "8da5e6fa-5433-4410-b28b-5f034d120eec"
   },
   "outputs": [
    {
     "ename": "NameError",
     "evalue": "ignored",
     "output_type": "error",
     "traceback": [
      "\u001b[0;31m---------------------------------------------------------------------------\u001b[0m",
      "\u001b[0;31mNameError\u001b[0m                                 Traceback (most recent call last)",
      "\u001b[0;32m<ipython-input-8-243624fb330d>\u001b[0m in \u001b[0;36m<module>\u001b[0;34m()\u001b[0m\n\u001b[0;32m----> 1\u001b[0;31m \u001b[0mplt\u001b[0m\u001b[0;34m.\u001b[0m\u001b[0mplot\u001b[0m\u001b[0;34m(\u001b[0m\u001b[0mk\u001b[0m\u001b[0;34m)\u001b[0m\u001b[0;34m\u001b[0m\u001b[0;34m\u001b[0m\u001b[0m\n\u001b[0m\u001b[1;32m      2\u001b[0m \u001b[0mplt\u001b[0m\u001b[0;34m.\u001b[0m\u001b[0mplot\u001b[0m\u001b[0;34m(\u001b[0m\u001b[0md\u001b[0m\u001b[0;34m)\u001b[0m\u001b[0;34m\u001b[0m\u001b[0;34m\u001b[0m\u001b[0m\n",
      "\u001b[0;31mNameError\u001b[0m: name 'k' is not defined"
     ]
    }
   ],
   "source": [
    "plt.plot(k)\n",
    "plt.plot(d)"
   ]
  },
  {
   "cell_type": "code",
   "execution_count": 9,
   "id": "299e2b65",
   "metadata": {
    "id": "299e2b65"
   },
   "outputs": [],
   "source": [
    "def RSI_np(A, window_length=14):\n",
    "    \"\"\"\n",
    "    Calculate RSI\n",
    "    A: numpy array of log price\n",
    "    method : \"SMA\": simple moving average,\n",
    "            \"WMS\": Wilder Smoothing Method,\n",
    "            \"EMA\": exponential moving average\n",
    "    \n",
    "    Return RSI for last three periods\n",
    "    \"\"\"\n",
    "    # transform log-price to price\n",
    "    A = np.exp(A)\n",
    "    tmp = np.diff(A)\n",
    "\n",
    "    gain = np.clip(tmp, a_min = 0, a_max = None)\n",
    "    loss = np.abs(np.clip(tmp, a_min = None, a_max = 0))\n",
    "\n",
    "    avg_gain = np_ewma_vectorized(gain, window_length, 'WMS')#[-10:]\n",
    "    avg_loss = np_ewma_vectorized(loss, window_length, 'WMS')#[-10:]\n",
    "    \n",
    "    rsi1 = 100 - (100 * avg_loss / (avg_loss + avg_gain))\n",
    "        \n",
    "    avg_gain = np_ewma_vectorized(gain, window_length, 'EMA')#[-10:]\n",
    "    avg_loss = np_ewma_vectorized(loss, window_length, 'EMA')#[-10:]\n",
    "    \n",
    "    #rs = avg_gain / avg_loss\n",
    "    rsi2 = 100 - (100 * avg_loss / (avg_loss + avg_gain))\n",
    "    return rsi1[-2:], rsi2[-2:]"
   ]
  },
  {
   "cell_type": "code",
   "execution_count": 10,
   "id": "962684c5",
   "metadata": {
    "colab": {
     "base_uri": "https://localhost:8080/",
     "height": 452
    },
    "id": "962684c5",
    "outputId": "f90043d1-856a-440b-b40e-598acce83770"
   },
   "outputs": [
    {
     "ename": "NameError",
     "evalue": "ignored",
     "output_type": "error",
     "traceback": [
      "\u001b[0;31m---------------------------------------------------------------------------\u001b[0m",
      "\u001b[0;31mNameError\u001b[0m                                 Traceback (most recent call last)",
      "\u001b[0;32m<ipython-input-10-080b9f3c63d3>\u001b[0m in \u001b[0;36m<module>\u001b[0;34m()\u001b[0m\n\u001b[1;32m      2\u001b[0m \u001b[0;31m#rsi = RSI_np(A)\u001b[0m\u001b[0;34m\u001b[0m\u001b[0;34m\u001b[0m\u001b[0;34m\u001b[0m\u001b[0m\n\u001b[1;32m      3\u001b[0m \u001b[0mplt\u001b[0m\u001b[0;34m.\u001b[0m\u001b[0mplot\u001b[0m\u001b[0;34m(\u001b[0m\u001b[0mA\u001b[0m\u001b[0;34m.\u001b[0m\u001b[0mvalues\u001b[0m\u001b[0;34m)\u001b[0m\u001b[0;34m\u001b[0m\u001b[0;34m\u001b[0m\u001b[0m\n\u001b[0;32m----> 4\u001b[0;31m \u001b[0mplt\u001b[0m\u001b[0;34m.\u001b[0m\u001b[0mplot\u001b[0m\u001b[0;34m(\u001b[0m\u001b[0mrsi\u001b[0m \u001b[0;34m/\u001b[0m \u001b[0;36m1000\u001b[0m \u001b[0;34m+\u001b[0m \u001b[0;36m0.3\u001b[0m\u001b[0;34m)\u001b[0m\u001b[0;34m\u001b[0m\u001b[0;34m\u001b[0m\u001b[0m\n\u001b[0m",
      "\u001b[0;31mNameError\u001b[0m: name 'rsi' is not defined"
     ]
    },
    {
     "data": {
      "image/png": "[encoded data removed]",
      "text/plain": [
       "<Figure size 432x288 with 1 Axes>"
      ]
     },
     "metadata": {
      "needs_background": "light"
     },
     "output_type": "display_data"
    }
   ],
   "source": [
    "A = log_pr.iloc[1440*139:(1440*140+30):30,3]\n",
    "#rsi = RSI_np(A)\n",
    "plt.plot(A.values)\n",
    "plt.plot(rsi / 1000 + 0.3)"
   ]
  },
  {
   "cell_type": "code",
   "execution_count": 11,
   "id": "018cac03",
   "metadata": {
    "colab": {
     "base_uri": "https://localhost:8080/",
     "height": 168
    },
    "id": "018cac03",
    "outputId": "0a909aeb-cf97-49e4-dbef-40425ffc6461"
   },
   "outputs": [
    {
     "ename": "NameError",
     "evalue": "ignored",
     "output_type": "error",
     "traceback": [
      "\u001b[0;31m---------------------------------------------------------------------------\u001b[0m",
      "\u001b[0;31mNameError\u001b[0m                                 Traceback (most recent call last)",
      "\u001b[0;32m<ipython-input-11-1111597c368a>\u001b[0m in \u001b[0;36m<module>\u001b[0;34m()\u001b[0m\n\u001b[0;32m----> 1\u001b[0;31m \u001b[0mplt\u001b[0m\u001b[0;34m.\u001b[0m\u001b[0mplot\u001b[0m\u001b[0;34m(\u001b[0m\u001b[0mrsi\u001b[0m\u001b[0;34m)\u001b[0m\u001b[0;34m\u001b[0m\u001b[0;34m\u001b[0m\u001b[0m\n\u001b[0m",
      "\u001b[0;31mNameError\u001b[0m: name 'rsi' is not defined"
     ]
    }
   ],
   "source": [
    "plt.plot(rsi)"
   ]
  },
  {
   "cell_type": "code",
   "execution_count": 12,
   "id": "34dd8fb0",
   "metadata": {
    "colab": {
     "base_uri": "https://localhost:8080/",
     "height": 168
    },
    "id": "34dd8fb0",
    "outputId": "a3b6d941-2e7d-43b4-f64c-598a051029d1"
   },
   "outputs": [
    {
     "ename": "NameError",
     "evalue": "ignored",
     "output_type": "error",
     "traceback": [
      "\u001b[0;31m---------------------------------------------------------------------------\u001b[0m",
      "\u001b[0;31mNameError\u001b[0m                                 Traceback (most recent call last)",
      "\u001b[0;32m<ipython-input-12-66ba6a5b11fc>\u001b[0m in \u001b[0;36m<module>\u001b[0;34m()\u001b[0m\n\u001b[0;32m----> 1\u001b[0;31m \u001b[0mnp\u001b[0m\u001b[0;34m.\u001b[0m\u001b[0mcorrcoef\u001b[0m\u001b[0;34m(\u001b[0m\u001b[0;34m(\u001b[0m\u001b[0mA\u001b[0m\u001b[0;34m[\u001b[0m\u001b[0;36m1\u001b[0m\u001b[0;34m:\u001b[0m\u001b[0;34m]\u001b[0m\u001b[0;34m.\u001b[0m\u001b[0mvalues\u001b[0m \u001b[0;34m-\u001b[0m \u001b[0mA\u001b[0m\u001b[0;34m[\u001b[0m\u001b[0;34m:\u001b[0m\u001b[0;34m-\u001b[0m\u001b[0;36m1\u001b[0m\u001b[0;34m]\u001b[0m\u001b[0;34m.\u001b[0m\u001b[0mvalues\u001b[0m\u001b[0;34m)\u001b[0m\u001b[0;34m,\u001b[0m \u001b[0mrsi\u001b[0m\u001b[0;34m)\u001b[0m\u001b[0;34m\u001b[0m\u001b[0;34m\u001b[0m\u001b[0m\n\u001b[0m",
      "\u001b[0;31mNameError\u001b[0m: name 'rsi' is not defined"
     ]
    }
   ],
   "source": [
    "np.corrcoef((A[1:].values - A[:-1].values), rsi)\n"
   ]
  },
  {
   "cell_type": "code",
   "execution_count": 13,
   "id": "86ff10dc",
   "metadata": {
    "id": "86ff10dc"
   },
   "outputs": [],
   "source": [
    "def volChanges(B, window_length=30):\n",
    "    vol0 = np.mean(B[-30:])\n",
    "    vol1 = np.mean(B[-60:-30])\n",
    "    vol2 = np.mean(B[-90:-60])\n",
    "    vol3 = np.mean(B[-120:-90])\n",
    "    # vol4 = np.mean(B[-180:-120])\n",
    "    \n",
    "    return np.array([vol2-vol3, vol1-vol2, vol0-vol1, vol0])"
   ]
  },
  {
   "cell_type": "code",
   "execution_count": 14,
   "id": "93ab1a45",
   "metadata": {
    "id": "93ab1a45"
   },
   "outputs": [],
   "source": [
    "def getVolRatios(vol, volWindow=[10, 30, 60]):  \n",
    "    # Input: 1440 x 1 numpy array\n",
    "    # the window here is in minutes\n",
    "    # Output: 3 dim numpy array\n",
    "    \n",
    "    return np.array([sum(vol[-win:]) for win in volWindow]) / sum(vol)"
   ]
  },
  {
   "cell_type": "code",
   "execution_count": 15,
   "id": "fd177728",
   "metadata": {
    "id": "fd177728"
   },
   "outputs": [],
   "source": [
    "def priceVolCor(A, B, time=[1440, 720, 360]):\n",
    "    # Input: two 1440 x 1 numpy arrays\n",
    "    # Output: 3 dim numpy array\n",
    "    \n",
    "    pv_cor = A\n",
    "    temp = np.hstack((A, B))\n",
    "    pv_cor = [np.corrcoef(temp[-t:]) for t in time]\n",
    "    return np.array(pv_cor)"
   ]
  },
  {
   "cell_type": "code",
   "execution_count": 16,
   "id": "41b19701",
   "metadata": {
    "id": "41b19701"
   },
   "outputs": [],
   "source": [
    "# z-score of log-price\n",
    "def zScorePr(A):\n",
    "    # Input: 1440 x 1 numpy array\n",
    "    # Output: 3 dim numpy array\n",
    "    # the moving average log-price of 30min, 1h, and 3h\n",
    "\n",
    "    A = np.hstack((A[0]*np.ones(90), A, A[-1]*np.ones(90)))\n",
    "    \n",
    "    # moving averages of 30 minutes\n",
    "    N = 15\n",
    "    pr_avg_0 = np.convolve(A[(90-N):-(91-N)], np.ones(2*N)/N/2, mode='valid')\n",
    "    \n",
    "    # 1 hour (60 minutes)\n",
    "    N = 30\n",
    "    pr_avg_1 = np.convolve(A[(90-N):-(91-N)], np.ones(2*N)/N/2, mode='valid')\n",
    "    \n",
    "    # 2 hour (120 minutes)\n",
    "    N = 60\n",
    "    pr_avg_2 = np.convolve(A[(90-N):-(91-N)], np.ones(2*N)/N/2, mode='valid')\n",
    "    \n",
    "    # 3 hours (180 minutes)\n",
    "    N = 90\n",
    "    pr_avg_3 = np.convolve(A[(90-N):-(91-N)], np.ones(2*N)/N/2, mode='valid')\n",
    "    \n",
    "    z0 = (A[-1] - pr_avg_0[-1]) / np.std(pr_avg_0)\n",
    "    z1 = (A[-1] - pr_avg_1[-1]) / np.std(pr_avg_1)\n",
    "    z2 = (A[-1] - pr_avg_2[-1]) / np.std(pr_avg_2)\n",
    "    z3 = (A[-1] - pr_avg_3[-1]) / np.std(pr_avg_3)\n",
    "    return np.array([z0, z1, z2, z3])"
   ]
  },
  {
   "cell_type": "code",
   "execution_count": 17,
   "id": "b1fe6b3a",
   "metadata": {
    "id": "b1fe6b3a"
   },
   "outputs": [],
   "source": [
    "def neg30logr(A):\n",
    "    return -(A[-1] - A[-30])"
   ]
  },
  {
   "cell_type": "code",
   "execution_count": 40,
   "id": "YJB5lpTubgRE",
   "metadata": {
    "id": "YJB5lpTubgRE"
   },
   "outputs": [],
   "source": [
    "with open('/content/drive/My Drive/STATS601/tDistr.pkl', 'rb') as f:\n",
    "  paramsDict = pickle.load(f)\n",
    "\n",
    "def getTdist(A, assetVal):\n",
    "  # print(paramsDict)\n",
    "  return TD.cdf(A[-1], df = paramsDict[assetVal][\"df\"], loc = paramsDict[assetVal][\"loc\"], scale = paramsDict[assetVal][\"scale\"])"
   ]
  },
  {
   "cell_type": "code",
   "execution_count": 39,
   "id": "_LbYEEppcBit",
   "metadata": {
    "colab": {
     "base_uri": "https://localhost:8080/"
    },
    "id": "_LbYEEppcBit",
    "outputId": "6d547c23-d51e-4ef5-d68a-190655f284d3"
   },
   "outputs": [
    {
     "name": "stdout",
     "output_type": "stream",
     "text": [
      "{0: {'df': 2.5346169533055187, 'loc': -0.00027365262053218856, 'scale': 0.0032562288165270733}, 1: {'df': 2.1173732652490624, 'loc': -0.00035007191667327416, 'scale': 0.0024365638999085774}, 2: {'df': 2.382781777272213, 'loc': -0.0002686326409066102, 'scale': 0.004322769126866292}, 3: {'df': 2.9914518737683937, 'loc': -0.0002335418548962783, 'scale': 0.0029122221147063936}, 4: {'df': 3.0543768005038823, 'loc': -0.00022099798109251754, 'scale': 0.002452614134411103}, 5: {'df': 2.0939964738508885, 'loc': -0.00028816371145939837, 'scale': 0.002070045010104415}, 6: {'df': 2.716796209736719, 'loc': -0.00019714430950733188, 'scale': 0.0021338269483804494}, 7: {'df': 3.7025869690938653, 'loc': -0.00022811567109466756, 'scale': 0.0024265268827952666}, 8: {'df': 3.9645065419704677, 'loc': -2.6966740321696557e-05, 'scale': 0.0019897834536206174}, 9: {'df': 3.1785877030025707, 'loc': -1.633725109889926e-05, 'scale': 0.0017959047704221582}}\n"
     ]
    },
    {
     "data": {
      "text/plain": [
       "0.019413838472709184"
      ]
     },
     "execution_count": 39,
     "metadata": {},
     "output_type": "execute_result"
    }
   ],
   "source": []
  },
  {
   "cell_type": "code",
   "execution_count": 41,
   "id": "9ccf6b90",
   "metadata": {
    "id": "9ccf6b90"
   },
   "outputs": [],
   "source": [
    "def get_features(A, B, assetVal):\n",
    "    m1, m2 = mov_avg(A, B)\n",
    "    macd1, _, macd = MACD(A[::30])\n",
    "    rsi1, rsi2 = RSI_np(A[::30])\n",
    "    return np.hstack((\n",
    "        m1[-2:], #m2,\n",
    "        macd1[-1], #macd[-1],\n",
    "        rsi1, rsi2,\n",
    "        volChanges(B)[2:], # 8 9\n",
    "        #getVolRatios(B),\n",
    "        #priceVolCor(A, B),\n",
    "        zScorePr(A)[[0,1]],\n",
    "        neg30logr(A),\n",
    "        getTdist(A, assetVal)\n",
    "    )).reshape((1, -1))"
   ]
  },
  {
   "cell_type": "code",
   "execution_count": 42,
   "id": "64e8bcd7",
   "metadata": {
    "colab": {
     "base_uri": "https://localhost:8080/"
    },
    "id": "64e8bcd7",
    "outputId": "6c2eddf6-b9a7-40e8-dd8d-4912dd3f2de8"
   },
   "outputs": [
    {
     "name": "stdout",
     "output_type": "stream",
     "text": [
      "1440 (1, 13)\n"
     ]
    }
   ],
   "source": [
    "f = get_features(log_pr.iloc[:1440,0], volu.iloc[:1440,0], assetVal=0)\n",
    "p = np.shape(f)[1]\n",
    "print(len(log_pr.iloc[0:1440,0]), f.shape)"
   ]
  },
  {
   "cell_type": "code",
   "execution_count": 43,
   "id": "f3d16ded",
   "metadata": {
    "colab": {
     "base_uri": "https://localhost:8080/"
    },
    "id": "f3d16ded",
    "outputId": "56d049b2-d4cc-463c-ba5a-17e120e92da8"
   },
   "outputs": [
    {
     "name": "stdout",
     "output_type": "stream",
     "text": [
      "132.88662576675415 (8781, 13) (8781,) (1, 8781, 1)\n",
      "135.2589099407196 (8781, 13) (17562,) (2, 8781, 1)\n",
      "133.86098194122314 (8781, 13) (26343,) (3, 8781, 1)\n",
      "132.97457098960876 (8781, 13) (35124,) (4, 8781, 1)\n",
      "131.44459342956543 (8781, 13) (43905,) (5, 8781, 1)\n",
      "131.79697966575623 (8781, 13) (52686,) (6, 8781, 1)\n",
      "132.77440214157104 (8781, 13) (61467,) (7, 8781, 1)\n",
      "133.36468291282654 (8781, 13) (70248,) (8, 8781, 1)\n",
      "135.54861068725586 (8781, 13) (79029,) (9, 8781, 1)\n",
      "133.06124687194824 (8781, 13) (87810,) (10, 8781, 1)\n"
     ]
    }
   ],
   "source": [
    "# compute and save the feature \"pool\"\n",
    "\n",
    "feature = {}\n",
    "ytrain = {}\n",
    "feature_test = {}\n",
    "\n",
    "test_res = []\n",
    "selected_rank2 = []\n",
    "\n",
    "ytest = []\n",
    "pred = []\n",
    "\n",
    "for asset in range(10):\n",
    "    t0 = time.time()\n",
    "    \n",
    "    fs = get_features(log_pr.iloc[:1440, asset], volu.iloc[:1440, asset], assetVal=asset)\n",
    "    y = log_pr.iloc[1440+29, asset] - log_pr.iloc[1440-1, asset]\n",
    "    #y = np.mean(log_pr.iloc[(1440+27):(1440+32), asset]) - log_pr.iloc[1440-1, asset]\n",
    "    \n",
    "    d = 10\n",
    "\n",
    "    for t in range(1440*121 - 30)[d::d]: # compute the predictions every 10 minutes\n",
    "        f = get_features(log_pr.iloc[t:(t+1440), asset], volu.iloc[t:(t+1440), asset], assetVal=asset)\n",
    "        fs = np.vstack((fs, f))\n",
    "        y = np.vstack((\n",
    "            y, \n",
    "            log_pr.iloc[t+1440+29, asset] - log_pr.iloc[t+1440-1, asset]\n",
    "        ))\n",
    "\n",
    "    #t_used = time.time() - t0\n",
    "    #print(t_used, np.shape(fs), np.shape(y))\n",
    "    \n",
    "    feature[asset] = fs\n",
    "    ytrain[asset] = y\n",
    "    \n",
    "    model = LinearRegression()\n",
    "    model.fit(fs, y)\n",
    "    \n",
    "    ftest = get_features(log_pr.iloc[1440*122:1440*123, asset], volu.iloc[1440*122:1440*123, asset], assetVal=asset)\n",
    "    ytest.append(log_pr.iloc[1440*123+29, asset] - log_pr.iloc[1440*123-1, asset])\n",
    "    \n",
    "    d = 10\n",
    "\n",
    "    for t in range(1440*122+10,264960-1470,d): # compute the predictions every 10 minutes\n",
    "        f = get_features(log_pr.iloc[t:(t+1440), asset], volu.iloc[t:(t+1440), asset], assetVal=asset)\n",
    "        ftest = np.vstack((ftest, f))\n",
    "        ytest.append(log_pr.iloc[t+1440+29, asset] - log_pr.iloc[t+1440-1, asset])\n",
    "    \n",
    "    feature_test[asset] = ftest\n",
    "    pred.append(model.predict(ftest))\n",
    "    \n",
    "    t_used = time.time() - t0\n",
    "    print(t_used, np.shape(ftest), np.shape(ytest), np.shape(pred))\n",
    "    \n",
    "    #test_res.append(np.corrcoef(pred[:,0], ytest[:,0])[0,1])\n",
    "    #with open('./model_{}.pkl'.format(asset),'wb') as f:\n",
    "    #    pickle.dump(model,f)\n",
    "    \n",
    "    #select = RFE(model, n_features_to_select=40, step=1).fit(fs, y)\n",
    "    #selected.append([i for i in range(p) if select.support_[i]])\n",
    "    #selected_rank2.append(select.ranking_)"
   ]
  },
  {
   "cell_type": "code",
   "execution_count": 32,
   "id": "r9DKd0p-c-DO",
   "metadata": {
    "colab": {
     "base_uri": "https://localhost:8080/"
    },
    "id": "r9DKd0p-c-DO",
    "outputId": "48b9bd74-85d8-40b8-d199-640bd76b5f87"
   },
   "outputs": [
    {
     "data": {
      "text/plain": [
       "timestamp\n",
       "2021-07-01 00:10:00    0.000808\n",
       "2021-07-01 00:11:00    0.000602\n",
       "2021-07-01 00:12:00   -0.000064\n",
       "2021-07-01 00:13:00   -0.001349\n",
       "2021-07-01 00:14:00   -0.001102\n",
       "                         ...   \n",
       "2021-07-02 00:05:00   -0.010813\n",
       "2021-07-02 00:06:00   -0.011563\n",
       "2021-07-02 00:07:00   -0.012272\n",
       "2021-07-02 00:08:00   -0.011475\n",
       "2021-07-02 00:09:00   -0.011153\n",
       "Name: 0, Length: 1440, dtype: float64"
      ]
     },
     "execution_count": 32,
     "metadata": {},
     "output_type": "execute_result"
    }
   ],
   "source": []
  },
  {
   "cell_type": "code",
   "execution_count": 44,
   "id": "15fb53bf",
   "metadata": {
    "id": "15fb53bf"
   },
   "outputs": [],
   "source": [
    "a_file = open(\"/content/drive/My Drive/STATS601/feature_train.pkl\", \"wb\")\n",
    "pickle.dump(feature, a_file)\n",
    "a_file.close()\n",
    "\n",
    "a_file = open(\"/content/drive/My Drive/STATS601/feature_test.pkl\", \"wb\")\n",
    "pickle.dump(feature_test, a_file)\n",
    "a_file.close()\n",
    "\n",
    "a_file = open(\"/content/drive/My Drive/STATS601/y_train.pkl\", \"wb\")\n",
    "pickle.dump(ytrain, a_file)\n",
    "a_file.close()\n",
    "\n",
    "a_file = open(\"/content/drive/My Drive/STATS601/y_test.pkl\", \"wb\")\n",
    "pickle.dump(ytest, a_file)\n",
    "a_file.close()\n",
    "\n",
    "#a_file = open(\"data.pkl\", \"rb\")\n",
    "#output = pickle.load(a_file)"
   ]
  },
  {
   "cell_type": "code",
   "execution_count": 45,
   "id": "7acc33e6",
   "metadata": {
    "colab": {
     "base_uri": "https://localhost:8080/"
    },
    "id": "7acc33e6",
    "outputId": "7bfec29f-3acb-441a-8c10-66b7c762e778"
   },
   "outputs": [
    {
     "data": {
      "text/plain": [
       "[0.0035762740589267124,\n",
       " 0.10796076785379936,\n",
       " 0.07317628360081506,\n",
       " 0.027432374380966105,\n",
       " 0.06569513278689827,\n",
       " 0.058873932157186844,\n",
       " 0.028115506451062554,\n",
       " 0.03847854957463483,\n",
       " 0.06105366494440309,\n",
       " 0.06189555261774635]"
      ]
     },
     "execution_count": 45,
     "metadata": {},
     "output_type": "execute_result"
    }
   ],
   "source": [
    "[np.corrcoef(\n",
    "    np.array(pred).reshape((1,-1))[0, k*8781:(k+1)*8781],\n",
    "    np.array(ytest)[k*8781:(k+1)*8781]\n",
    ")[0, 1] for k in range(10)]"
   ]
  },
  {
   "cell_type": "code",
   "execution_count": 46,
   "id": "ELs_ceAfafSl",
   "metadata": {
    "colab": {
     "base_uri": "https://localhost:8080/"
    },
    "id": "ELs_ceAfafSl",
    "outputId": "cc3a3766-9f64-4c59-bc78-cb55bb4fb685"
   },
   "outputs": [
    {
     "data": {
      "text/plain": [
       "(17421, 13)"
      ]
     },
     "execution_count": 46,
     "metadata": {},
     "output_type": "execute_result"
    }
   ],
   "source": [
    "feature[0].shape"
   ]
  },
  {
   "cell_type": "code",
   "execution_count": 47,
   "id": "ad5d8322",
   "metadata": {
    "colab": {
     "base_uri": "https://localhost:8080/"
    },
    "id": "ad5d8322",
    "outputId": "fb4bc7d0-0e85-4f33-be42-416c208ff014"
   },
   "outputs": [
    {
     "name": "stdout",
     "output_type": "stream",
     "text": [
      "(17421, 13) (17421, 1)\n"
     ]
    },
    {
     "data": {
      "text/plain": [
       "array([[1.        , 0.02674453],\n",
       "       [0.02674453, 1.        ]])"
      ]
     },
     "execution_count": 47,
     "metadata": {},
     "output_type": "execute_result"
    }
   ],
   "source": [
    "print(np.shape(fs), np.shape(y))\n",
    "np.corrcoef(np.array(pred).reshape((1,-1)), np.array(ytest))"
   ]
  },
  {
   "cell_type": "code",
   "execution_count": null,
   "id": "0fc1fc0a",
   "metadata": {
    "id": "0fc1fc0a"
   },
   "outputs": [],
   "source": [
    "# 100 + dim\n",
    "0.01922068\n",
    "# rsi + volchange + zscore + neg 30  6 x 1\n",
    "0.04946184"
   ]
  },
  {
   "cell_type": "code",
   "execution_count": null,
   "id": "bd29e0fe",
   "metadata": {
    "id": "bd29e0fe"
   },
   "outputs": [],
   "source": [
    "# rsi (-1) + volchange + neg 30\n",
    "0.04189984"
   ]
  },
  {
   "cell_type": "code",
   "execution_count": null,
   "id": "d3c6d7a7",
   "metadata": {
    "id": "d3c6d7a7",
    "outputId": "a0b4fd63-a599-4398-b129-72b0e15b2a97"
   },
   "outputs": [
    {
     "data": {
      "text/plain": [
       "0.050721814312798395"
      ]
     },
     "execution_count": 98,
     "metadata": {},
     "output_type": "execute_result"
    }
   ],
   "source": [
    "np.corrcoef(np.array(pred).reshape((1,-1)), np.array(ytest))[0,1]\n",
    "# rsi (-1) + volchange (4 dim) + zscore + neg 30 log return\n",
    "0.04330438"
   ]
  },
  {
   "cell_type": "code",
   "execution_count": 48,
   "id": "a98ec7de",
   "metadata": {
    "id": "a98ec7de"
   },
   "outputs": [],
   "source": [
    "def forward_selected(data, response):\n",
    "    \"\"\"Linear model designed by forward selection.\n",
    "\n",
    "    Parameters:\n",
    "    -----------\n",
    "    data : pandas DataFrame with all possible predictors and response\n",
    "\n",
    "    response: string, name of response column in data\n",
    "\n",
    "    Returns:\n",
    "    --------\n",
    "    model: an \"optimal\" fitted statsmodels linear model\n",
    "           with an intercept\n",
    "           selected by forward selection\n",
    "           evaluated by adjusted R-squared\n",
    "    \"\"\"\n",
    "    remaining = set(data.columns)\n",
    "    remaining.remove(response)\n",
    "    selected = []\n",
    "    current_score, best_new_score = 0.0, 0.0\n",
    "    while remaining and current_score == best_new_score:\n",
    "        scores_with_candidates = []\n",
    "        for candidate in remaining:\n",
    "            formula = \"{} ~ {} + 1\".format(response,\n",
    "                                           ' + '.join(selected + [candidate]))\n",
    "            score = smf.ols(formula, data).fit().rsquared_adj\n",
    "            scores_with_candidates.append((score, candidate))\n",
    "        scores_with_candidates.sort()\n",
    "        best_new_score, best_candidate = scores_with_candidates.pop()\n",
    "        if current_score < best_new_score:\n",
    "            remaining.remove(best_candidate)\n",
    "            selected.append(best_candidate)\n",
    "            current_score = best_new_score\n",
    "    formula = \"{} ~ {} + 1\".format(response,\n",
    "                                   ' + '.join(selected))\n",
    "    model = smf.ols(formula, data).fit()\n",
    "    return model"
   ]
  },
  {
   "cell_type": "code",
   "execution_count": 194,
   "id": "7564a286",
   "metadata": {
    "colab": {
     "base_uri": "https://localhost:8080/"
    },
    "id": "7564a286",
    "outputId": "979a490b-2d2c-4920-f6a3-4d58a68c6a28"
   },
   "outputs": [
    {
     "name": "stdout",
     "output_type": "stream",
     "text": [
      "0.5744950771331787 (8781, 6) (8781,) (1, 8781, 1)\n",
      "0.5718405246734619 (8781, 4) (17562,) (2, 8781, 1)\n",
      "0.5642783641815186 (8781, 3) (26343,) (3, 8781, 1)\n",
      "0.5752089023590088 (8781, 4) (35124,) (4, 8781, 1)\n",
      "0.5691366195678711 (8781, 6) (43905,) (5, 8781, 1)\n",
      "0.56669020652771 (8781, 5) (52686,) (6, 8781, 1)\n",
      "0.598351240158081 (8781, 7) (61467,) (7, 8781, 1)\n",
      "0.5556590557098389 (8781, 6) (70248,) (8, 8781, 1)\n",
      "0.582838773727417 (8781, 5) (79029,) (9, 8781, 1)\n",
      "0.5697824954986572 (8781, 6) (87810,) (10, 8781, 1)\n"
     ]
    }
   ],
   "source": [
    "# model selection with forward selection\n",
    "\n",
    "test_res = []\n",
    "selected_rank2 = []\n",
    "\n",
    "ytest = []\n",
    "pred = []\n",
    "\n",
    "# selected features for each asset\n",
    "flist = [[6,7,8,9,10,11],\n",
    "         [6,7,10,12],\n",
    "         [7,8,12],#8\n",
    "         [7,8,9,12],#9\n",
    "         [6,7,8,9,10,11],#7\n",
    "         [7,8,9,10,11],\n",
    "         [6,7,8,9,10,11,12],\n",
    "         [6,7,8,9,11,12],\n",
    "         [6,7,8,11,12],#7\n",
    "         [6,7,8,9,10,11]\n",
    "        ]\n",
    "#flist = [[6,7,8,9,10,11] for i in range(10)]\n",
    "\n",
    "for asset in range(10):\n",
    "    t0 = time.time()\n",
    "    '''\n",
    "    fs = get_features(log_pr.iloc[:1440, asset], volu.iloc[:1440, asset])\n",
    "    y = log_pr.iloc[1440+29, asset] - log_pr.iloc[1440-1, asset]\n",
    "    #y = np.mean(log_pr.iloc[(1440+27):(1440+32), asset]) - log_pr.iloc[1440-1, asset]\n",
    "    \n",
    "    d = 10\n",
    "\n",
    "    for t in range(1440*121 - 30)[d::d]: # compute the predictions every 10 minutes\n",
    "        f = get_features(log_pr.iloc[t:(t+1440), asset], volu.iloc[t:(t+1440), asset])\n",
    "        fs = np.vstack((fs, f))\n",
    "        y = np.vstack((\n",
    "            y, \n",
    "            log_pr.iloc[t+1440+29, asset] - log_pr.iloc[t+1440-1, asset]\n",
    "        ))\n",
    "    '''\n",
    "    \n",
    "    fs = np.array(feature[asset])\n",
    "    y = np.array(ytrain[asset])\n",
    "    fs[:, [7,8]] = fs[:, [7,8]] / 10**8\n",
    "    fs = fs[:, flist[asset]]\n",
    "    \n",
    "    df = pd.DataFrame(fs, columns=['x' + str(i) for i in range(len(flist[asset]))])\n",
    "    df['y'] = y\n",
    "    \n",
    "    #model = forward_selected(df, 'y')\n",
    "    #print(model.summary())\n",
    "    \n",
    "    #lm = sm.OLS.from_formula('y ~ x0+x1+x2+x3+x4+x5+x6+x7+x8+x9+x10+x11+x12+x13+x14+x15', data=df)\n",
    "    #res = lm.fit()\n",
    "    #print(res.aic)\n",
    "    \n",
    "    model = LinearRegression()\n",
    "    model.fit(fs, y)\n",
    "    \n",
    "    \n",
    "    #ftest = get_features(log_pr.iloc[1440*122:1440*123, asset], volu.iloc[1440*122:1440*123, asset])\n",
    "    ytest.append(log_pr.iloc[1440*123+29, asset] - log_pr.iloc[1440*123-1, asset])\n",
    "    \n",
    "    d = 10\n",
    "\n",
    "    for t in range(1440*122+10,264960-1470,d): # compute the predictions every 10 minutes\n",
    "        #f = get_features(log_pr.iloc[t:(t+1440), asset], volu.iloc[t:(t+1440), asset])\n",
    "        #ftest = np.vstack((ftest, f))\n",
    "        ytest.append(log_pr.iloc[t+1440+29, asset] - log_pr.iloc[t+1440-1, asset])\n",
    "    \n",
    "    \n",
    "    ftest = np.array(feature_test[asset])\n",
    "    ytes = np.array(ytest)[asset*8781:(asset+1)*8781]\n",
    "    \n",
    "    ftest[:, [7,8]] = ftest[:, [7,8]] / 10**8\n",
    "    ftest = ftest[:, flist[asset]]\n",
    "    pred.append(model.predict(ftest))\n",
    "    \n",
    "    t_used = time.time() - t0\n",
    "    print(t_used, np.shape(ftest), np.shape(ytest), np.shape(pred))\n",
    "    \n",
    "    #test_res.append(np.corrcoef(pred[:,0], ytest[:,0])[0,1])\n"
   ]
  },
  {
   "cell_type": "code",
   "execution_count": 195,
   "id": "7dee5ed2",
   "metadata": {
    "colab": {
     "base_uri": "https://localhost:8080/"
    },
    "id": "7dee5ed2",
    "outputId": "35177858-f121-408d-fbf7-2fe1fe0085f3"
   },
   "outputs": [
    {
     "data": {
      "text/plain": [
       "[0.00946226827229674,\n",
       " 0.09314661154436778,\n",
       " 0.0644939628713763,\n",
       " 0.044877332058903964,\n",
       " 0.06735015267327411,\n",
       " 0.0696437063740389,\n",
       " 0.07188666290985447,\n",
       " 0.020039098509298893,\n",
       " 0.09291674808274557,\n",
       " 0.06042626342966893]"
      ]
     },
     "execution_count": 195,
     "metadata": {},
     "output_type": "execute_result"
    }
   ],
   "source": [
    "[np.corrcoef(\n",
    "    np.array(pred).reshape((1,-1))[0, k*8781:(k+1)*8781],\n",
    "    np.array(ytest)[k*8781:(k+1)*8781]\n",
    ")[0, 1] for k in range(10)]"
   ]
  },
  {
   "cell_type": "code",
   "execution_count": 196,
   "id": "73a6bc07",
   "metadata": {
    "colab": {
     "base_uri": "https://localhost:8080/"
    },
    "id": "73a6bc07",
    "outputId": "99969ca5-037b-4d33-a8a6-e04db599db5e"
   },
   "outputs": [
    {
     "name": "stdout",
     "output_type": "stream",
     "text": [
      "(17421, 6) (17421, 1)\n"
     ]
    },
    {
     "data": {
      "text/plain": [
       "array([[1.        , 0.05642299],\n",
       "       [0.05642299, 1.        ]])"
      ]
     },
     "execution_count": 196,
     "metadata": {},
     "output_type": "execute_result"
    }
   ],
   "source": [
    "print(np.shape(fs), np.shape(y))\n",
    "np.corrcoef(np.array(pred).reshape((1,-1)), np.array(ytest))"
   ]
  },
  {
   "cell_type": "code",
   "execution_count": 69,
   "id": "rjU8dMmkuknL",
   "metadata": {
    "id": "rjU8dMmkuknL"
   },
   "outputs": [],
   "source": [
    "# pred = np.array(pred)\n",
    "# for i in range(0,10):\n",
    "#   pred[i] = (pred[i] - pred[i].mean())/pred[i].std()"
   ]
  },
  {
   "cell_type": "code",
   "execution_count": null,
   "id": "3a9aef22",
   "metadata": {
    "id": "3a9aef22",
    "outputId": "8046490f-ba94-4d6a-e966-cf9492d9e118"
   },
   "outputs": [
    {
     "name": "stdout",
     "output_type": "stream",
     "text": [
      "28.0329270362854 (17279, 6) (17279, 1)\n",
      "28.291547298431396 (17279, 5) (17279, 1)\n",
      "28.340413093566895 (17279, 4) (17279, 1)\n",
      "28.48229479789734 (17279, 4) (17279, 1)\n",
      "28.36985492706299 (17279, 6) (17279, 1)\n",
      "28.27253484725952 (17279, 5) (17279, 1)\n",
      "28.10258197784424 (17279, 6) (17279, 1)\n",
      "28.304808855056763 (17279, 5) (17279, 1)\n",
      "28.263984203338623 (17279, 6) (17279, 1)\n",
      "28.34920382499695 (17279, 6) (17279, 1)\n"
     ]
    }
   ],
   "source": [
    "# train the models for submission using last 4 months of data\n",
    "selected = []\n",
    "selected_rank = []\n",
    "\n",
    "flist = [[6,7,8,9,10,11],\n",
    "         [6,7,10,12],\n",
    "         [7,8,12],#8\n",
    "         [7,8,9,12],#9\n",
    "         [6,7,8,9,10,11],#7\n",
    "         [7,8,9,10,11],\n",
    "         [6,7,8,9,10,11,12],\n",
    "         [6,7,8,9,11,12],\n",
    "         [6,7,8,11,12],#7\n",
    "         [6,7,8,9,10,11]\n",
    "        ]\n",
    "\n",
    "for asset in range(10):\n",
    "    t0 = time.time()\n",
    "\n",
    "    fs = get_features(\n",
    "        log_pr.iloc[(-1440*121-10):(-1440*120-10), asset], \n",
    "        volu.iloc[(-1440*121-10):(-1440*120-10), asset]\n",
    "    )\n",
    "    y = log_pr.iloc[-1440*121+29, asset] - log_pr.iloc[-1440*120-1, asset]\n",
    "\n",
    "    '''\n",
    "    d = 10\n",
    "\n",
    "    for t in range(1440 * 0, 1440 * 60, d): \n",
    "        f = get_features(log_pr.iloc[t:(t+1440), asset], volu.iloc[t:(t+1440), asset])\n",
    "        fs = np.vstack((fs, f))\n",
    "        y = np.vstack((\n",
    "            y, \n",
    "            np.mean(log_pr.iloc[(t+1440+27):(t+1440+33), asset])\n",
    "        ))\n",
    "    '''\n",
    "    d = 10\n",
    "\n",
    "    for t in range(264960)[(-1440*121):-1469:d]: # compute the predictions every 10 minutes\n",
    "        f = get_features(log_pr.iloc[t:(t+1440), asset], volu.iloc[t:(t+1440), asset], assetVal = asset)\n",
    "        fs = np.vstack((fs, f))\n",
    "        y = np.vstack((\n",
    "            y, \n",
    "            log_pr.iloc[t+1440+29, asset] - log_pr.iloc[t+1440-1, asset]\n",
    "        ))\n",
    "        \n",
    "    fs[:, [7,8]] = fs[:, [7,8]] / 10**8\n",
    "    fs = fs[:, flist[asset]]\n",
    "    \n",
    "    t_used = time.time() - t0\n",
    "    print(t_used, np.shape(fs), np.shape(y))\n",
    "    \n",
    "    model = LinearRegression()\n",
    "    model.fit(fs, y)\n",
    "\n",
    "    #pred = model.predict(ftest)\n",
    "    #test_res.append(np.corrcoef(pred[:,0], ytest[:,0])[0,1])\n",
    "    with open('/content/drive/My Drive/STATS601/submitModels/model_{}.pkl'.format(asset),'wb') as f:\n",
    "        pickle.dump(model,f)\n",
    "    \n",
    "    #select = RFE(model, n_features_to_select=100, step=2).fit(fs, y)\n",
    "    #selected.append([i for i in range(p) if select.support_[i]])\n",
    "    #selected_rank.append(select.ranking_)"
   ]
  },
  {
   "cell_type": "code",
   "execution_count": null,
   "id": "4835bf48",
   "metadata": {
    "id": "4835bf48",
    "outputId": "520bac96-e92d-4956-d471-fb17137d77a5"
   },
   "outputs": [
    {
     "data": {
      "text/plain": [
       "0       2021-07-01 00:00:00\n",
       "1       2021-07-01 00:01:00\n",
       "2       2021-07-01 00:02:00\n",
       "3       2021-07-01 00:03:00\n",
       "4       2021-07-01 00:04:00\n",
       "               ...         \n",
       "1435    2021-07-01 23:55:00\n",
       "1436    2021-07-01 23:56:00\n",
       "1437    2021-07-01 23:57:00\n",
       "1438    2021-07-01 23:58:00\n",
       "1439    2021-07-01 23:59:00\n",
       "Name: timestamp, Length: 1440, dtype: object"
      ]
     },
     "execution_count": 20,
     "metadata": {},
     "output_type": "execute_result"
    }
   ],
   "source": []
  },
  {
   "cell_type": "code",
   "execution_count": null,
   "id": "b00258a5",
   "metadata": {
    "id": "b00258a5",
    "outputId": "4fd6e340-dabd-4e6d-b431-71038af40fe8"
   },
   "outputs": [
    {
     "data": {
      "text/plain": [
       "timestamp\n",
       "2021-07-01 00:00:00    0.000051\n",
       "2021-07-01 00:01:00   -0.002184\n",
       "2021-07-01 00:02:00   -0.000792\n",
       "2021-07-01 00:03:00   -0.000399\n",
       "2021-07-01 00:04:00   -0.001120\n",
       "                         ...   \n",
       "2021-07-01 23:55:00   -0.013992\n",
       "2021-07-01 23:56:00   -0.012978\n",
       "2021-07-01 23:57:00   -0.012263\n",
       "2021-07-01 23:58:00   -0.012624\n",
       "2021-07-01 23:59:00   -0.013186\n",
       "Name: 0, Length: 1440, dtype: float64"
      ]
     },
     "execution_count": 38,
     "metadata": {},
     "output_type": "execute_result"
    }
   ],
   "source": [
    "log_pr.iloc[:1440,0]"
   ]
  },
  {
   "cell_type": "code",
   "execution_count": null,
   "id": "fef826df",
   "metadata": {
    "id": "fef826df"
   },
   "outputs": [],
   "source": []
  }
 ],
 "metadata": {
  "colab": {
   "collapsed_sections": [],
   "name": "training_2.3_Akhil.ipynb",
   "provenance": []
  },
  "kernelspec": {
   "display_name": "Python 3 (ipykernel)",
   "language": "python",
   "name": "python3"
  },
  "language_info": {
   "codemirror_mode": {
    "name": "ipython",
    "version": 3
   },
   "file_extension": ".py",
   "mimetype": "text/x-python",
   "name": "python",
   "nbconvert_exporter": "python",
   "pygments_lexer": "ipython3",
   "version": "3.9.7"
  }
 },
 "nbformat": 4,
 "nbformat_minor": 5
}
