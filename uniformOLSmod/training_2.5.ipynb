{
 "cells": [
  {
   "cell_type": "code",
   "execution_count": 1,
   "id": "3d8cd29c",
   "metadata": {},
   "outputs": [],
   "source": [
    "import os\n",
    "import datetime\n",
    "import time\n",
    "import pandas as pd\n",
    "import numpy as np\n",
    "import matplotlib.pyplot as plt\n",
    "import pickle\n",
    "import statsmodels.api as sm\n",
    "import statsmodels.formula.api as smf\n",
    "from scipy.ndimage.filters import uniform_filter1d\n",
    "from scipy.stats import t as TD\n",
    "from sklearn.linear_model import LinearRegression\n",
    "from sklearn.linear_model import RidgeCV\n",
    "from sklearn.svm import SVR\n",
    "from sklearn.feature_selection import RFE\n",
    "from statsmodels.graphics.gofplots import ProbPlot"
   ]
  },
  {
   "cell_type": "code",
   "execution_count": 2,
   "id": "e5ab8938",
   "metadata": {},
   "outputs": [],
   "source": [
    "log_pr = pd.read_pickle(\"./log_price.df\")\n",
    "volu = pd.read_pickle(\"./volume_usd.df\")"
   ]
  },
  {
   "cell_type": "code",
   "execution_count": 3,
   "id": "a854cc87",
   "metadata": {},
   "outputs": [],
   "source": [
    "# moving averages of different time span\n",
    "def mov_avg(A, B, window_length=60):\n",
    "    # Input: two 1440 x 1 numpy arrays\n",
    "    # Output: two 288 x 1 numpy arrays\n",
    "    \n",
    "    pr_avg = uniform_filter1d(A, size=window_length, mode='nearest')[::30]\n",
    "    vo_avg = uniform_filter1d(B, size=window_length, mode='nearest')[::30]\n",
    "\n",
    "    return pr_avg[-10:], vo_avg[-5:]"
   ]
  },
  {
   "cell_type": "code",
   "execution_count": 4,
   "id": "61a1747f",
   "metadata": {},
   "outputs": [],
   "source": [
    "def MACD(A):\n",
    "    # Input: 1440 x 1 DataFrame\n",
    "    # Output: two 1440 x 1 numpy array\n",
    "    df = np.exp(A)\n",
    "        \n",
    "    # Get the 26-day EMA of the closing price\n",
    "    k = df.ewm(span=26, adjust=False, min_periods=26).mean()\n",
    "    # Get the 12-day EMA of the closing price\n",
    "    d = df.ewm(span=12, adjust=False, min_periods=12).mean()\n",
    "\n",
    "    # Subtract the 26-day EMA from the 12-Day EMA to get the MACD\n",
    "    macd = k - d\n",
    "\n",
    "    # Get the 9-Day EMA of the MACD for the Trigger line\n",
    "    macd_s = np.array(macd.ewm(span=9, adjust=False, min_periods=9).mean())\n",
    "\n",
    "    # Calculate the difference between the MACD - Trigger for the Convergence/Divergence value\n",
    "    #macd_h = macd - macd_s\n",
    "    \n",
    "    return np.array(macd), macd_s #, macd_h"
   ]
  },
  {
   "cell_type": "code",
   "execution_count": 5,
   "id": "216783a2",
   "metadata": {},
   "outputs": [],
   "source": [
    "def np_ewma_vectorized(data, window, method = \"WMS\"):\n",
    "\n",
    "    if method == \"WMS\":\n",
    "        alpha = 1 / window\n",
    "    elif method == \"EMA\":\n",
    "        alpha = 2 / (window + 1.0)\n",
    "    alpha_rev = 1 - alpha\n",
    "    n = data.shape[0]\n",
    "\n",
    "    pows = alpha_rev**(np.arange(n+1))\n",
    "\n",
    "    scale_arr = 1 / pows[:-1]\n",
    "    offset = data[0] * pows[1:]\n",
    "    pw0 = alpha * alpha_rev**(n-1)\n",
    "\n",
    "    mult = data * pw0 * scale_arr\n",
    "    cumsums = mult.cumsum()\n",
    "    out = offset + cumsums * scale_arr[::-1]\n",
    "    return out\n",
    "\n",
    "\n",
    "def MACD(A):\n",
    "    # Input: 1440 x 1 DataFrame\n",
    "    # Output: two 1440 x 1 numpy array\n",
    "    A = np.exp(A)\n",
    "        \n",
    "    # Get the 26-day EMA of the closing price\n",
    "    k = np_ewma_vectorized(A, 26)\n",
    "    # Get the 12-day EMA of the closing price\n",
    "    d = np_ewma_vectorized(A, 12)\n",
    "\n",
    "    # Subtract the 26-day EMA from the 12-Day EMA to get the MACD\n",
    "    macd = k - d\n",
    "\n",
    "    #Get the 9-Day EMA of the MACD for the Trigger line\n",
    "    macd_s = np.array(np_ewma_vectorized(macd, 9))\n",
    "\n",
    "    # Calculate the difference between the MACD - Trigger for the Convergence/Divergence value\n",
    "    #macd_h = macd - macd_s\n",
    "    \n",
    "    if abs(k[-1] - k[-2] - d[-1] + d[-2]) > 0.001:\n",
    "        return ((k[-1] - k[-2] - d[-1] + d[-2]), k, d, np.array(macd))\n",
    "    else:\n",
    "        return (0, k, d, np.array(macd))\n",
    "    \n",
    "    if (k[-1] - k[-2] - d[-1] + d[-2]) > 0.001:\n",
    "        return (np.array([0.1]), k, d, np.array(macd))#, macd_s#, macd_h\n",
    "    elif (k[-1] - k[-2] - d[-1] + d[-2]) < -0.001:\n",
    "        return (np.array([-0.1]), k, d, np.array(macd))#, macd_s#, macd_h\n",
    "    else:\n",
    "        return (np.array([0]), k, d, np.array(macd))#, macd_s#, macd_h"
   ]
  },
  {
   "cell_type": "code",
   "execution_count": 6,
   "id": "03b661d7",
   "metadata": {},
   "outputs": [
    {
     "data": {
      "text/plain": [
       "[<matplotlib.lines.Line2D at 0x7f9100337940>]"
      ]
     },
     "execution_count": 6,
     "metadata": {},
     "output_type": "execute_result"
    },
    {
     "data": {
      "image/png": "[encoded data removed]",
      "text/plain": [
       "<Figure size 432x288 with 1 Axes>"
      ]
     },
     "metadata": {
      "needs_background": "light"
     },
     "output_type": "display_data"
    }
   ],
   "source": [
    "A = log_pr.iloc[20000:23000:30,0]\n",
    "_, k, d, macd1 = MACD(A)\n",
    "plt.plot(A)\n",
    "plt.plot(np.log(k))\n",
    "plt.plot(np.log(d))"
   ]
  },
  {
   "cell_type": "code",
   "execution_count": 7,
   "id": "c8d6be44",
   "metadata": {},
   "outputs": [
    {
     "ename": "ValueError",
     "evalue": "too many values to unpack (expected 3)",
     "output_type": "error",
     "traceback": [
      "\u001b[0;31m---------------------------------------------------------------------------\u001b[0m",
      "\u001b[0;31mValueError\u001b[0m                                Traceback (most recent call last)",
      "Input \u001b[0;32mIn [7]\u001b[0m, in \u001b[0;36m<cell line: 2>\u001b[0;34m()\u001b[0m\n\u001b[1;32m      1\u001b[0m A \u001b[38;5;241m=\u001b[39m log_pr\u001b[38;5;241m.\u001b[39miloc[\u001b[38;5;241m20000\u001b[39m:\u001b[38;5;241m23000\u001b[39m,\u001b[38;5;241m0\u001b[39m]\n\u001b[0;32m----> 2\u001b[0m k, d, macd1 \u001b[38;5;241m=\u001b[39m MACD(A)\n\u001b[1;32m      3\u001b[0m plt\u001b[38;5;241m.\u001b[39mplot(A \u001b[38;5;241m+\u001b[39m \u001b[38;5;241m1\u001b[39m)\n\u001b[1;32m      4\u001b[0m plt\u001b[38;5;241m.\u001b[39mplot(k)\n",
      "\u001b[0;31mValueError\u001b[0m: too many values to unpack (expected 3)"
     ]
    }
   ],
   "source": [
    "A = log_pr.iloc[20000:23000,0]\n",
    "k, d, macd1 = MACD(A)\n",
    "plt.plot(A + 1)\n",
    "plt.plot(k)\n",
    "plt.plot(d)"
   ]
  },
  {
   "cell_type": "code",
   "execution_count": 8,
   "id": "1ff9ad87",
   "metadata": {},
   "outputs": [],
   "source": [
    "def RSI_np(A, window_length=14):\n",
    "    \"\"\"\n",
    "    Calculate RSI\n",
    "    A: numpy array of log price\n",
    "    method : \"SMA\": simple moving average,\n",
    "            \"WMS\": Wilder Smoothing Method,\n",
    "            \"EMA\": exponential moving average\n",
    "    \n",
    "    Return RSI for last three periods\n",
    "    \"\"\"\n",
    "    # transform log-price to price\n",
    "    A = np.exp(A)\n",
    "    tmp = np.diff(A)\n",
    "\n",
    "    gain = np.clip(tmp, a_min = 0, a_max = None)\n",
    "    loss = np.abs(np.clip(tmp, a_min = None, a_max = 0))\n",
    "\n",
    "    avg_gain = np_ewma_vectorized(gain, window_length, 'WMS')#[-10:]\n",
    "    avg_loss = np_ewma_vectorized(loss, window_length, 'WMS')#[-10:]\n",
    "    \n",
    "    rsi1 = 100 - (100 * avg_loss / (avg_loss + avg_gain))\n",
    "        \n",
    "    avg_gain = np_ewma_vectorized(gain, window_length, 'EMA')#[-10:]\n",
    "    avg_loss = np_ewma_vectorized(loss, window_length, 'EMA')#[-10:]\n",
    "    \n",
    "    #rs = avg_gain / avg_loss\n",
    "    rsi2 = 100 - (100 * avg_loss / (avg_loss + avg_gain))\n",
    "    return rsi1[-2:], rsi2[-2:]"
   ]
  },
  {
   "cell_type": "code",
   "execution_count": 9,
   "id": "bb98111d",
   "metadata": {},
   "outputs": [
    {
     "ename": "NameError",
     "evalue": "name 'rsi' is not defined",
     "output_type": "error",
     "traceback": [
      "\u001b[0;31m---------------------------------------------------------------------------\u001b[0m",
      "\u001b[0;31mNameError\u001b[0m                                 Traceback (most recent call last)",
      "Input \u001b[0;32mIn [9]\u001b[0m, in \u001b[0;36m<cell line: 4>\u001b[0;34m()\u001b[0m\n\u001b[1;32m      2\u001b[0m \u001b[38;5;66;03m#rsi = RSI_np(A)\u001b[39;00m\n\u001b[1;32m      3\u001b[0m plt\u001b[38;5;241m.\u001b[39mplot(A\u001b[38;5;241m.\u001b[39mvalues)\n\u001b[0;32m----> 4\u001b[0m plt\u001b[38;5;241m.\u001b[39mplot(\u001b[43mrsi\u001b[49m \u001b[38;5;241m/\u001b[39m \u001b[38;5;241m1000\u001b[39m \u001b[38;5;241m+\u001b[39m \u001b[38;5;241m0.3\u001b[39m)\n",
      "\u001b[0;31mNameError\u001b[0m: name 'rsi' is not defined"
     ]
    },
    {
     "data": {
      "image/png": "[encoded data removed]",
      "text/plain": [
       "<Figure size 432x288 with 1 Axes>"
      ]
     },
     "metadata": {
      "needs_background": "light"
     },
     "output_type": "display_data"
    }
   ],
   "source": [
    "A = log_pr.iloc[1440*139:(1440*140+30):30,3]\n",
    "#rsi = RSI_np(A)\n",
    "plt.plot(A.values)\n",
    "plt.plot(rsi / 1000 + 0.3)"
   ]
  },
  {
   "cell_type": "code",
   "execution_count": 10,
   "id": "79270447",
   "metadata": {},
   "outputs": [
    {
     "ename": "NameError",
     "evalue": "name 'rsi' is not defined",
     "output_type": "error",
     "traceback": [
      "\u001b[0;31m---------------------------------------------------------------------------\u001b[0m",
      "\u001b[0;31mNameError\u001b[0m                                 Traceback (most recent call last)",
      "Input \u001b[0;32mIn [10]\u001b[0m, in \u001b[0;36m<cell line: 1>\u001b[0;34m()\u001b[0m\n\u001b[0;32m----> 1\u001b[0m plt\u001b[38;5;241m.\u001b[39mplot(\u001b[43mrsi\u001b[49m)\n",
      "\u001b[0;31mNameError\u001b[0m: name 'rsi' is not defined"
     ]
    }
   ],
   "source": [
    "plt.plot(rsi)"
   ]
  },
  {
   "cell_type": "code",
   "execution_count": 11,
   "id": "4b42913c",
   "metadata": {},
   "outputs": [
    {
     "ename": "NameError",
     "evalue": "name 'rsi' is not defined",
     "output_type": "error",
     "traceback": [
      "\u001b[0;31m---------------------------------------------------------------------------\u001b[0m",
      "\u001b[0;31mNameError\u001b[0m                                 Traceback (most recent call last)",
      "Input \u001b[0;32mIn [11]\u001b[0m, in \u001b[0;36m<cell line: 1>\u001b[0;34m()\u001b[0m\n\u001b[0;32m----> 1\u001b[0m np\u001b[38;5;241m.\u001b[39mcorrcoef((A[\u001b[38;5;241m1\u001b[39m:]\u001b[38;5;241m.\u001b[39mvalues \u001b[38;5;241m-\u001b[39m A[:\u001b[38;5;241m-\u001b[39m\u001b[38;5;241m1\u001b[39m]\u001b[38;5;241m.\u001b[39mvalues), \u001b[43mrsi\u001b[49m)\n",
      "\u001b[0;31mNameError\u001b[0m: name 'rsi' is not defined"
     ]
    }
   ],
   "source": [
    "np.corrcoef((A[1:].values - A[:-1].values), rsi)\n"
   ]
  },
  {
   "cell_type": "code",
   "execution_count": 12,
   "id": "6d99c0e1",
   "metadata": {},
   "outputs": [],
   "source": [
    "def volChanges(B, window_length=30):\n",
    "    vol0 = np.mean(B[-30:])\n",
    "    vol1 = np.mean(B[-60:-30])\n",
    "    vol2 = np.mean(B[-90:-60])\n",
    "    vol3 = np.mean(B[-120:-90])\n",
    "    # vol4 = np.mean(B[-180:-120])\n",
    "    \n",
    "    return np.array([vol2-vol3, vol1-vol2, vol0-vol1, vol0])"
   ]
  },
  {
   "cell_type": "code",
   "execution_count": 13,
   "id": "7a8d9f73",
   "metadata": {},
   "outputs": [],
   "source": [
    "def getVolRatios(vol, volWindow=[10, 30, 60]):  \n",
    "    # Input: 1440 x 1 numpy array\n",
    "    # the window here is in minutes\n",
    "    # Output: 3 dim numpy array\n",
    "    \n",
    "    return np.array([sum(vol[-win:]) for win in volWindow]) / sum(vol)"
   ]
  },
  {
   "cell_type": "code",
   "execution_count": 14,
   "id": "adbf3271",
   "metadata": {},
   "outputs": [],
   "source": [
    "def priceVolCor(A, B, time=[1440, 720, 360]):\n",
    "    # Input: two 1440 x 1 numpy arrays\n",
    "    # Output: 3 dim numpy array\n",
    "    \n",
    "    pv_cor = A\n",
    "    temp = np.hstack((A, B))\n",
    "    pv_cor = [np.corrcoef(temp[-t:]) for t in time]\n",
    "    return np.array(pv_cor)"
   ]
  },
  {
   "cell_type": "code",
   "execution_count": 15,
   "id": "2903ead2",
   "metadata": {},
   "outputs": [],
   "source": [
    "# z-score of log-price\n",
    "def zScorePr(A):\n",
    "    # Input: 1440 x 1 numpy array\n",
    "    # Output: 3 dim numpy array\n",
    "    # the moving average log-price of 30min, 1h, and 3h\n",
    "\n",
    "    A = np.hstack((A[0]*np.ones(90), A, A[-1]*np.ones(90)))\n",
    "    \n",
    "    # moving averages of 30 minutes\n",
    "    N = 15\n",
    "    pr_avg_0 = np.convolve(A[(90-N):-(91-N)], np.ones(2*N)/N/2, mode='valid')\n",
    "    \n",
    "    # 1 hour (60 minutes)\n",
    "    N = 30\n",
    "    pr_avg_1 = np.convolve(A[(90-N):-(91-N)], np.ones(2*N)/N/2, mode='valid')\n",
    "    \n",
    "    # 2 hour (120 minutes)\n",
    "    N = 60\n",
    "    pr_avg_2 = np.convolve(A[(90-N):-(91-N)], np.ones(2*N)/N/2, mode='valid')\n",
    "    \n",
    "    # 3 hours (180 minutes)\n",
    "    N = 90\n",
    "    pr_avg_3 = np.convolve(A[(90-N):-(91-N)], np.ones(2*N)/N/2, mode='valid')\n",
    "    \n",
    "    z0 = (A[-1] - pr_avg_0[-1]) / np.std(pr_avg_0)\n",
    "    z1 = (A[-1] - pr_avg_1[-1]) / np.std(pr_avg_1)\n",
    "    z2 = (A[-1] - pr_avg_2[-1]) / np.std(pr_avg_2)\n",
    "    z3 = (A[-1] - pr_avg_3[-1]) / np.std(pr_avg_3)\n",
    "    return np.array([z0, z1, z2, z3])"
   ]
  },
  {
   "cell_type": "code",
   "execution_count": 101,
   "id": "f9006524",
   "metadata": {},
   "outputs": [],
   "source": [
    "def neglogr(A, asset):\n",
    "    params = [158, 279, 100, 15, 32, 7, 37, 6, 36, 82]\n",
    "    #params = [30] * 10\n",
    "    return A[-1*params[asset]] - A[-1]"
   ]
  },
  {
   "cell_type": "code",
   "execution_count": 17,
   "id": "615815c3",
   "metadata": {},
   "outputs": [],
   "source": [
    "with open('tDistr.pkl', 'rb') as f:\n",
    "    paramsDict = pickle.load(f)\n",
    "\n",
    "def getTdist(A, assetVal):\n",
    "    return TD.cdf(\n",
    "      A[-1] - A[-31], \n",
    "      df = paramsDict[assetVal][\"df\"], \n",
    "      loc = paramsDict[assetVal][\"loc\"], \n",
    "      scale = paramsDict[assetVal][\"scale\"]\n",
    "    )"
   ]
  },
  {
   "cell_type": "code",
   "execution_count": 18,
   "id": "c96a5460",
   "metadata": {},
   "outputs": [
    {
     "name": "stderr",
     "output_type": "stream",
     "text": [
      "/Users/xinhew/opt/anaconda3/lib/python3.9/site-packages/pandas/core/arraylike.py:397: RuntimeWarning: divide by zero encountered in log10\n",
      "  result = getattr(ufunc, method)(*inputs, **kwargs)\n"
     ]
    }
   ],
   "source": [
    "volmean = {}\n",
    "volstd = {}\n",
    "\n",
    "for j in range(10):\n",
    "    logVol = np.log10(volu.iloc[:, j])\n",
    "    if j == 2:\n",
    "        logVol = np.log10(volu.iloc[1440*136:, j])\n",
    "    volmean[j] = np.mean(logVol)\n",
    "    volstd[j] = np.std(logVol)"
   ]
  },
  {
   "cell_type": "code",
   "execution_count": 103,
   "id": "83105f86",
   "metadata": {},
   "outputs": [],
   "source": [
    "def get_features(A, B, asset):\n",
    "    global volmean, volstd\n",
    "    m1, m2 = mov_avg(np.exp(A), B)\n",
    "    indi, macd1, _, macd = MACD(A[::30])\n",
    "    rsi1, rsi2 = RSI_np(np.exp(A[::30]))\n",
    "    return np.hstack((\n",
    "        0, #(m1[-1] - np.exp(A[-1])) / m1[-1], #m2,\n",
    "        indi, (np.log(macd1[-1]) - A[-1]) / np.log(macd1[-1]), #macd[-1],\n",
    "        rsi1, rsi2,\n",
    "        volChanges(B)[2:],\n",
    "        #getVolRatios(B),\n",
    "        #priceVolCor(A, B),\n",
    "        zScorePr(np.exp(A))[:2],\n",
    "        neglogr(A, asset),\n",
    "        getTdist(A, asset),\n",
    "        np.mean(A), np.std(A), (A[-1] - np.mean(A)) / np.std(A),\n",
    "        1 #(np.mean(np.log10(B[-3:])) - volmean[asset]) / volstd[asset]\n",
    "    )).reshape((1, -1))"
   ]
  },
  {
   "cell_type": "code",
   "execution_count": 20,
   "id": "81c11847",
   "metadata": {},
   "outputs": [
    {
     "name": "stdout",
     "output_type": "stream",
     "text": [
      "1440 (1, 17)\n",
      "[[ 0.00000000e+00  0.00000000e+00 -5.88234047e+00  3.32136652e+01\n",
      "   3.20391628e+01  2.61249465e+01  2.42080364e+01 -4.57536105e+04\n",
      "   1.97991318e+05 -6.96990193e-02 -7.48758804e-02  1.56663059e-03\n",
      "   3.56492946e-01 -1.83705017e-03  5.37114066e-03 -2.11288978e+00\n",
      "  -3.73895646e-01]]\n"
     ]
    }
   ],
   "source": [
    "f = get_features(log_pr.iloc[:1440,0], volu.iloc[:1440,0], 0)\n",
    "p = np.shape(f)[1]\n",
    "print(len(log_pr.iloc[0:1440,0]), f.shape)\n",
    "print(f)"
   ]
  },
  {
   "cell_type": "code",
   "execution_count": 104,
   "id": "a3f2fea7",
   "metadata": {},
   "outputs": [
    {
     "name": "stdout",
     "output_type": "stream",
     "text": [
      "50.29247784614563 (8782, 17) (8782,)\n",
      "50.491703033447266 (8782, 17) (17564,)\n",
      "50.21328806877136 (8782, 17) (26346,)\n",
      "50.41482925415039 (8782, 17) (35128,)\n",
      "50.37596797943115 (8782, 17) (43910,)\n",
      "50.071455001831055 (8782, 17) (52692,)\n",
      "50.195226192474365 (8782, 17) (61474,)\n",
      "50.27958822250366 (8782, 17) (70256,)\n",
      "50.155869007110596 (8782, 17) (79038,)\n",
      "50.46501803398132 (8782, 17) (87820,)\n"
     ]
    }
   ],
   "source": [
    "# compute and save the feature \"pool\"\n",
    "\n",
    "feature = {}\n",
    "ytrain = {}\n",
    "feature_test = {}\n",
    "\n",
    "test_res = []\n",
    "selected_rank2 = []\n",
    "\n",
    "ytest = []\n",
    "pred = []\n",
    "\n",
    "for asset in range(10):\n",
    "    t0 = time.time()\n",
    "    \n",
    "    fs = get_features(log_pr.iloc[1440*63:1440*64, asset], volu.iloc[1440*63:1440*64, asset], asset)\n",
    "    y = log_pr.iloc[1440*64+29, asset] - log_pr.iloc[1440*64-1, asset]\n",
    "    #y = np.mean(log_pr.iloc[(1440+27):(1440+32), asset]) - log_pr.iloc[1440-1, asset]\n",
    "    \n",
    "    d = 10\n",
    "\n",
    "    for t in range(1440*63, 1440*183 - 30)[d::d]: # compute the predictions every 10 minutes\n",
    "        f = get_features(log_pr.iloc[t:(t+1440), asset], volu.iloc[t:(t+1440), asset], asset)\n",
    "        fs = np.vstack((fs, f))\n",
    "        y = np.vstack((\n",
    "            y, \n",
    "            log_pr.iloc[t+1440+29, asset] - log_pr.iloc[t+1440-1, asset]\n",
    "        ))\n",
    "\n",
    "    #t_used = time.time() - t0\n",
    "    #print(t_used, np.shape(fs), np.shape(y))\n",
    "    \n",
    "    feature[asset] = fs\n",
    "    ytrain[asset] = y\n",
    "    \n",
    "    ftest = get_features(log_pr.iloc[:1440*1, asset], volu.iloc[:1440*1, asset], asset)\n",
    "    ytest.append(log_pr.iloc[1440*1+29, asset] - log_pr.iloc[1440*1-1, asset])\n",
    "    \n",
    "    d = 10\n",
    "\n",
    "    for t in range(0,1440*62-1470,d): # compute the predictions every 10 minutes\n",
    "        f = get_features(log_pr.iloc[t:(t+1440), asset], volu.iloc[t:(t+1440), asset], asset)\n",
    "        ftest = np.vstack((ftest, f))\n",
    "        ytest.append(log_pr.iloc[t+1440+29, asset] - log_pr.iloc[t+1440-1, asset])\n",
    "    \n",
    "    feature_test[asset] = ftest\n",
    "    \n",
    "    t_used = time.time() - t0\n",
    "    print(t_used, np.shape(ftest), np.shape(ytest))\n"
   ]
  },
  {
   "cell_type": "code",
   "execution_count": 105,
   "id": "cb45358f",
   "metadata": {},
   "outputs": [],
   "source": [
    "# save files\n",
    "a_file = open(\"feature_train.pkl\", \"wb\")\n",
    "pickle.dump(feature, a_file)\n",
    "a_file.close()\n",
    "\n",
    "a_file = open(\"feature_test.pkl\", \"wb\")\n",
    "pickle.dump(feature_test, a_file)\n",
    "a_file.close()\n",
    "\n",
    "a_file = open(\"y_train.pkl\", \"wb\")\n",
    "pickle.dump(ytrain, a_file)\n",
    "a_file.close()\n",
    "\n",
    "a_file = open(\"y_test.pkl\", \"wb\")\n",
    "pickle.dump(ytest, a_file)\n",
    "a_file.close()\n",
    "\n",
    "#a_file = open(\"data.pkl\", \"rb\")\n",
    "#output = pickle.load(a_file)"
   ]
  },
  {
   "cell_type": "code",
   "execution_count": 106,
   "id": "ea04c5a0",
   "metadata": {},
   "outputs": [],
   "source": [
    "# read files\n",
    "a_file = open(\"feature_train.pkl\", \"rb\")\n",
    "feature = pickle.load(a_file)\n",
    "a_file.close()\n",
    "\n",
    "a_file = open(\"feature_test.pkl\", \"rb\")\n",
    "feature_test = pickle.load(a_file)\n",
    "a_file.close()\n",
    "\n",
    "a_file = open(\"y_train.pkl\", \"rb\")\n",
    "ytrain = pickle.load(a_file)\n",
    "a_file.close()\n",
    "\n",
    "a_file = open(\"y_test.pkl\", \"rb\")\n",
    "ytest = pickle.load(a_file)\n",
    "a_file.close()"
   ]
  },
  {
   "cell_type": "code",
   "execution_count": 107,
   "id": "7ab11cc7",
   "metadata": {},
   "outputs": [],
   "source": [
    "# truncate outliers in y\n",
    "def removeOutliers(A):\n",
    "    mean = np.mean(A)\n",
    "    std = np.std(A)\n",
    "    A[A > mean + 4*std] = mean + 6*std\n",
    "    A[A < mean - 4*std] = mean - 6*std\n",
    "    return A\n",
    "\n",
    "for j in range(10):\n",
    "    ytrain[j] = removeOutliers(ytrain[j])"
   ]
  },
  {
   "cell_type": "code",
   "execution_count": 108,
   "id": "a725872c",
   "metadata": {},
   "outputs": [
    {
     "data": {
      "text/plain": [
       "17"
      ]
     },
     "execution_count": 108,
     "metadata": {},
     "output_type": "execute_result"
    }
   ],
   "source": [
    "# truncate outliers in X\n",
    "for j in range(10):\n",
    "    for i in range(p):\n",
    "        if p == 12:\n",
    "            continue\n",
    "        feature[j][:,i] = removeOutliers(feature[j][:,i])\n",
    "p"
   ]
  },
  {
   "cell_type": "code",
   "execution_count": 61,
   "id": "598ca88d",
   "metadata": {},
   "outputs": [
    {
     "name": "stderr",
     "output_type": "stream",
     "text": [
      "/Users/xinhew/opt/anaconda3/lib/python3.9/site-packages/seaborn/distributions.py:2619: FutureWarning: `distplot` is a deprecated function and will be removed in a future version. Please adapt your code to use either `displot` (a figure-level function with similar flexibility) or `histplot` (an axes-level function for histograms).\n",
      "  warnings.warn(msg, FutureWarning)\n"
     ]
    },
    {
     "data": {
      "text/plain": [
       "<AxesSubplot:ylabel='Density'>"
      ]
     },
     "execution_count": 61,
     "metadata": {},
     "output_type": "execute_result"
    },
    {
     "data": {
      "image/png": "[encoded data removed]",
      "text/plain": [
       "<Figure size 432x288 with 1 Axes>"
      ]
     },
     "metadata": {
      "needs_background": "light"
     },
     "output_type": "display_data"
    }
   ],
   "source": [
    "import matplotlib.pyplot as plt\n",
    "import seaborn as sns\n",
    "#plt.style.use(seaborn-darkgrid)\n",
    "\n",
    "log_return = log_pr.iloc[30:,:].values - log_pr.iloc[:-30,:].values\n",
    "\n",
    "sns.distplot([feature[i][:,12] for i in range(10)])"
   ]
  },
  {
   "cell_type": "code",
   "execution_count": 25,
   "id": "91262cf5",
   "metadata": {},
   "outputs": [],
   "source": [
    "def forward_selected(data, response):\n",
    "    \"\"\"Linear model designed by forward selection.\n",
    "\n",
    "    Parameters:\n",
    "    -----------\n",
    "    data : pandas DataFrame with all possible predictors and response\n",
    "\n",
    "    response: string, name of response column in data\n",
    "\n",
    "    Returns:\n",
    "    --------\n",
    "    model: an \"optimal\" fitted statsmodels linear model\n",
    "           with an intercept\n",
    "           selected by forward selection\n",
    "           evaluated by adjusted R-squared\n",
    "    \"\"\"\n",
    "    remaining = set(data.columns)\n",
    "    remaining.remove(response)\n",
    "    selected = []\n",
    "    current_score, best_new_score = 0.0, 0.0\n",
    "    while remaining and current_score == best_new_score:\n",
    "        scores_with_candidates = []\n",
    "        for candidate in remaining:\n",
    "            formula = \"{} ~ {} + 1\".format(response,\n",
    "                                           ' + '.join(selected + [candidate]))\n",
    "            score = - smf.ols(formula, data).fit().aic#rsquared_adj\n",
    "            scores_with_candidates.append((score, candidate))\n",
    "        scores_with_candidates.sort()\n",
    "        best_new_score, best_candidate = scores_with_candidates.pop()\n",
    "        if current_score < best_new_score:\n",
    "            remaining.remove(best_candidate)\n",
    "            selected.append(best_candidate)\n",
    "            current_score = best_new_score\n",
    "    formula = \"{} ~ {} + 1\".format(response,\n",
    "                                   ' + '.join(selected))\n",
    "    model = smf.ols(formula, data).fit()\n",
    "    return model"
   ]
  },
  {
   "cell_type": "code",
   "execution_count": 109,
   "id": "dfd9f481",
   "metadata": {},
   "outputs": [
    {
     "name": "stdout",
     "output_type": "stream",
     "text": [
      "(172770, 17)\n",
      "(172770, 1)\n",
      "                            OLS Regression Results                            \n",
      "==============================================================================\n",
      "Dep. Variable:                      y   R-squared:                       0.003\n",
      "Model:                            OLS   Adj. R-squared:                  0.003\n",
      "Method:                 Least Squares   F-statistic:                     74.05\n",
      "Date:                Mon, 18 Apr 2022   Prob (F-statistic):          1.64e-122\n",
      "Time:                        22:32:17   Log-Likelihood:             6.7545e+05\n",
      "No. Observations:              172770   AIC:                        -1.351e+06\n",
      "Df Residuals:                  172761   BIC:                        -1.351e+06\n",
      "Df Model:                           8                                         \n",
      "Covariance Type:            nonrobust                                         \n",
      "==============================================================================\n",
      "                 coef    std err          t      P>|t|      [0.025      0.975]\n",
      "------------------------------------------------------------------------------\n",
      "Intercept     -0.0001   6.38e-05     -2.139      0.032      -0.000   -1.14e-05\n",
      "x5             0.0260      0.002     16.319      0.000       0.023       0.029\n",
      "x4            -0.0008   9.35e-05     -8.662      0.000      -0.001      -0.001\n",
      "x2          1.641e-05   2.02e-06      8.136      0.000    1.25e-05    2.04e-05\n",
      "x1         -1.532e-05   2.62e-06     -5.847      0.000   -2.05e-05   -1.02e-05\n",
      "x7             0.0001   2.13e-05      5.165      0.000    6.81e-05       0.000\n",
      "x6             0.0002   5.63e-05      3.868      0.000       0.000       0.000\n",
      "x3            -0.0010      0.000     -3.933      0.000      -0.001      -0.000\n",
      "x0             0.0319      0.013      2.502      0.012       0.007       0.057\n",
      "==============================================================================\n",
      "Omnibus:                    71860.804   Durbin-Watson:                   0.707\n",
      "Prob(Omnibus):                  0.000   Jarque-Bera (JB):          2127276.540\n",
      "Skew:                           1.398   Prob(JB):                         0.00\n",
      "Kurtosis:                      19.961   Cond. No.                     7.71e+04\n",
      "==============================================================================\n",
      "\n",
      "Notes:\n",
      "[1] Standard Errors assume that the covariance matrix of the errors is correctly specified.\n",
      "[2] The condition number is large, 7.71e+04. This might indicate that there are\n",
      "strong multicollinearity or other numerical problems.\n"
     ]
    }
   ],
   "source": [
    "# fit a uniform model to 10 assets and select features\n",
    "\n",
    "# first combine the X's\n",
    "Xcom = np.vstack((feature[0], feature[1]))\n",
    "for j in range(2,10):\n",
    "    Xcom = np.vstack((Xcom, feature[j]))\n",
    "    \n",
    "print(Xcom.shape)\n",
    "\n",
    "# then combine y's\n",
    "ycom = np.vstack((ytrain[0], ytrain[1]))\n",
    "for j in range(2,10):\n",
    "    ycom = np.vstack((ycom, ytrain[j]))\n",
    "    \n",
    "print(ycom.shape)\n",
    "\n",
    "# fit a least squares model\n",
    "Xcom[:, [7,8]] = Xcom[:, [7,8]] / 10**8\n",
    "\n",
    "p = 17\n",
    "df = pd.DataFrame(Xcom[:,[1,4,6,8,10,11,12,13]], columns=['x' + str(i) for i in range(8)])\n",
    "df['y'] = ycom\n",
    "model = forward_selected(df, 'y')\n",
    "print(model.summary())\n"
   ]
  },
  {
   "cell_type": "code",
   "execution_count": 88,
   "id": "2935b508",
   "metadata": {},
   "outputs": [
    {
     "name": "stderr",
     "output_type": "stream",
     "text": [
      "/Users/xinhew/opt/anaconda3/lib/python3.9/site-packages/seaborn/_decorators.py:36: FutureWarning: Pass the following variables as keyword args: x, y. From version 0.12, the only valid positional argument will be `data`, and passing other arguments without an explicit keyword will result in an error or misinterpretation.\n",
      "  warnings.warn(\n",
      "/Users/xinhew/opt/anaconda3/lib/python3.9/site-packages/statsmodels/graphics/gofplots.py:1045: UserWarning: color is redundantly defined by the 'color' keyword argument and the fmt string \"b\" (-> color=(0.0, 0.0, 1.0, 1)). The keyword argument will take precedence.\n",
      "  ax.plot(x, y, fmt, **plot_style)\n",
      "/Users/xinhew/opt/anaconda3/lib/python3.9/site-packages/seaborn/_decorators.py:36: FutureWarning: Pass the following variables as keyword args: x, y. From version 0.12, the only valid positional argument will be `data`, and passing other arguments without an explicit keyword will result in an error or misinterpretation.\n",
      "  warnings.warn(\n",
      "/Users/xinhew/opt/anaconda3/lib/python3.9/site-packages/seaborn/_decorators.py:36: FutureWarning: Pass the following variables as keyword args: x, y. From version 0.12, the only valid positional argument will be `data`, and passing other arguments without an explicit keyword will result in an error or misinterpretation.\n",
      "  warnings.warn(\n"
     ]
    },
    {
     "data": {
      "image/png": "[encoded data removed]",
      "text/plain": [
       "<Figure size 432x288 with 1 Axes>"
      ]
     },
     "metadata": {
      "needs_background": "light"
     },
     "output_type": "display_data"
    },
    {
     "data": {
      "image/png": "[encoded data removed]",
      "text/plain": [
       "<Figure size 432x288 with 1 Axes>"
      ]
     },
     "metadata": {
      "needs_background": "light"
     },
     "output_type": "display_data"
    },
    {
     "data": {
      "image/png": "[encoded data removed]",
      "text/plain": [
       "<Figure size 432x288 with 1 Axes>"
      ]
     },
     "metadata": {
      "needs_background": "light"
     },
     "output_type": "display_data"
    },
    {
     "data": {
      "image/png": "[encoded data removed]",
      "text/plain": [
       "<Figure size 432x288 with 1 Axes>"
      ]
     },
     "metadata": {
      "needs_background": "light"
     },
     "output_type": "display_data"
    }
   ],
   "source": [
    "diagnostic_plots(X=df.iloc[:,0:6], y=df['y'])\n"
   ]
  },
  {
   "cell_type": "code",
   "execution_count": 78,
   "id": "547673ca",
   "metadata": {},
   "outputs": [],
   "source": [
    "def graph(formula, x_range, label=None):\n",
    "    \"\"\"\n",
    "    Helper function for plotting cook's distance lines\n",
    "    \"\"\"\n",
    "    x = x_range\n",
    "    y = formula(x)\n",
    "    plt.plot(x, y, label=label, lw=1, ls='--', color='red')\n",
    "\n",
    "\n",
    "def diagnostic_plots(X, y, model_fit=None):\n",
    "    \"\"\"\n",
    "    Function to reproduce the 4 base plots of an OLS model in R.\n",
    "\n",
    "    ---\n",
    "    Inputs:\n",
    "\n",
    "    X: A numpy array or pandas dataframe of the features to use in building the linear regression model\n",
    "\n",
    "    y: A numpy array or pandas series/dataframe of the target variable of the linear regression model\n",
    "\n",
    "    model_fit [optional]: a statsmodel.api.OLS model after regressing y on X. If not provided, will be\n",
    "                        generated from X, y\n",
    "    \"\"\"\n",
    "\n",
    "    if not model_fit:\n",
    "        model_fit = sm.OLS(y, sm.add_constant(X)).fit()\n",
    "\n",
    "    # create dataframe from X, y for easier plot handling\n",
    "    dataframe = pd.concat([X, y], axis=1)\n",
    "\n",
    "    # model values\n",
    "    model_fitted_y = model_fit.fittedvalues\n",
    "    # model residuals\n",
    "    model_residuals = model_fit.resid\n",
    "    # normalized residuals\n",
    "    model_norm_residuals = model_fit.get_influence().resid_studentized_internal\n",
    "    # absolute squared normalized residuals\n",
    "    model_norm_residuals_abs_sqrt = np.sqrt(np.abs(model_norm_residuals))\n",
    "    # absolute residuals\n",
    "    model_abs_resid = np.abs(model_residuals)\n",
    "    # leverage, from statsmodels internals\n",
    "    model_leverage = model_fit.get_influence().hat_matrix_diag\n",
    "    # cook's distance, from statsmodels internals\n",
    "    model_cooks = model_fit.get_influence().cooks_distance[0]\n",
    "\n",
    "    plot_lm_1 = plt.figure()\n",
    "    plot_lm_1.axes[0] = sns.residplot(model_fitted_y, dataframe.columns[-1], data=dataframe,\n",
    "                            lowess=True,\n",
    "                            scatter_kws={'alpha': 0.5},\n",
    "                            line_kws={'color': 'red', 'lw': 1, 'alpha': 0.8})\n",
    "\n",
    "    plot_lm_1.axes[0].set_title('Residuals vs Fitted')\n",
    "    plot_lm_1.axes[0].set_xlabel('Fitted values')\n",
    "    plot_lm_1.axes[0].set_ylabel('Residuals');\n",
    "\n",
    "    # annotations\n",
    "    abs_resid = model_abs_resid.sort_values(ascending=False)\n",
    "    abs_resid_top_3 = abs_resid[:3]\n",
    "    for i in abs_resid_top_3.index:\n",
    "        plot_lm_1.axes[0].annotate(i,\n",
    "                                 xy=(model_fitted_y[i],\n",
    "                                     model_residuals[i]));\n",
    "\n",
    "    QQ = ProbPlot(model_norm_residuals)\n",
    "    plot_lm_2 = QQ.qqplot(line='45', alpha=0.5, color='#4C72B0', lw=1)\n",
    "    plot_lm_2.axes[0].set_title('Normal Q-Q')\n",
    "    plot_lm_2.axes[0].set_xlabel('Theoretical Quantiles')\n",
    "    plot_lm_2.axes[0].set_ylabel('Standardized Residuals');\n",
    "    # annotations\n",
    "    abs_norm_resid = np.flip(np.argsort(np.abs(model_norm_residuals)), 0)\n",
    "    abs_norm_resid_top_3 = abs_norm_resid[:3]\n",
    "    for r, i in enumerate(abs_norm_resid_top_3):\n",
    "        plot_lm_2.axes[0].annotate(i,\n",
    "                                 xy=(np.flip(QQ.theoretical_quantiles, 0)[r],\n",
    "                                     model_norm_residuals[i]));\n",
    "\n",
    "    plot_lm_3 = plt.figure()\n",
    "    plt.scatter(model_fitted_y, model_norm_residuals_abs_sqrt, alpha=0.5);\n",
    "    sns.regplot(model_fitted_y, model_norm_residuals_abs_sqrt,\n",
    "              scatter=False,\n",
    "              ci=False,\n",
    "              lowess=True,\n",
    "              line_kws={'color': 'red', 'lw': 1, 'alpha': 0.8});\n",
    "    plot_lm_3.axes[0].set_title('Scale-Location')\n",
    "    plot_lm_3.axes[0].set_xlabel('Fitted values')\n",
    "    plot_lm_3.axes[0].set_ylabel('$\\sqrt{|Standardized Residuals|}$');\n",
    "\n",
    "    # annotations\n",
    "    abs_sq_norm_resid = np.flip(np.argsort(model_norm_residuals_abs_sqrt), 0)\n",
    "    abs_sq_norm_resid_top_3 = abs_sq_norm_resid[:3]\n",
    "    for i in abs_norm_resid_top_3:\n",
    "        plot_lm_3.axes[0].annotate(i,\n",
    "                                 xy=(model_fitted_y[i],\n",
    "                                     model_norm_residuals_abs_sqrt[i]));\n",
    "\n",
    "\n",
    "    plot_lm_4 = plt.figure();\n",
    "    plt.scatter(model_leverage, model_norm_residuals, alpha=0.5);\n",
    "    sns.regplot(model_leverage, model_norm_residuals,\n",
    "              scatter=False,\n",
    "              ci=False,\n",
    "              lowess=True,\n",
    "              line_kws={'color': 'red', 'lw': 1, 'alpha': 0.8});\n",
    "    plot_lm_4.axes[0].set_xlim(0, max(model_leverage)+0.01)\n",
    "    plot_lm_4.axes[0].set_ylim(-3, 5)\n",
    "    plot_lm_4.axes[0].set_title('Residuals vs Leverage')\n",
    "    plot_lm_4.axes[0].set_xlabel('Leverage')\n",
    "    plot_lm_4.axes[0].set_ylabel('Standardized Residuals');\n",
    "\n",
    "    # annotations\n",
    "    leverage_top_3 = np.flip(np.argsort(model_cooks), 0)[:3]\n",
    "    for i in leverage_top_3:\n",
    "        plot_lm_4.axes[0].annotate(i,\n",
    "                                 xy=(model_leverage[i],\n",
    "                                     model_norm_residuals[i]));\n",
    "\n",
    "    p = len(model_fit.params) # number of model parameters\n",
    "    graph(lambda x: np.sqrt((0.5 * p * (1 - x)) / x),\n",
    "        np.linspace(0.001, max(model_leverage), 50),\n",
    "        'Cook\\'s distance') # 0.5 line\n",
    "    graph(lambda x: np.sqrt((1 * p * (1 - x)) / x),\n",
    "        np.linspace(0.001, max(model_leverage), 50)) # 1 line\n",
    "    plot_lm_4.legend(loc='upper right');"
   ]
  },
  {
   "cell_type": "code",
   "execution_count": 128,
   "id": "9fa26230",
   "metadata": {},
   "outputs": [
    {
     "name": "stdout",
     "output_type": "stream",
     "text": [
      "0.23592686653137207 (8782, 3) (8782,) (1, 8782, 1)\n",
      "0.21765995025634766 (8782, 3) (17564,) (2, 8782, 1)\n",
      "0.21830296516418457 (8782, 3) (26346,) (3, 8782, 1)\n",
      "0.2193288803100586 (8782, 3) (35128,) (4, 8782, 1)\n",
      "0.21952009201049805 (8782, 3) (43910,) (5, 8782, 1)\n",
      "0.21954774856567383 (8782, 3) (52692,) (6, 8782, 1)\n",
      "0.22257089614868164 (8782, 3) (61474,) (7, 8782, 1)\n",
      "0.22082114219665527 (8782, 3) (70256,) (8, 8782, 1)\n",
      "0.22133421897888184 (8782, 3) (79038,) (9, 8782, 1)\n",
      "0.2192528247833252 (8782, 3) (87820,) (10, 8782, 1)\n"
     ]
    }
   ],
   "source": [
    "# test on the first two months\n",
    "\n",
    "test_res = []\n",
    "selected_rank2 = []\n",
    "\n",
    "ytest = []\n",
    "pred = []\n",
    "\n",
    "# selected features\n",
    "\n",
    "flist = [9,11,13]\n",
    "\n",
    "for asset in range(10):\n",
    "    t0 = time.time()\n",
    "    '''\n",
    "    fs = get_features(log_pr.iloc[:1440, asset], volu.iloc[:1440, asset])\n",
    "    y = log_pr.iloc[1440+29, asset] - log_pr.iloc[1440-1, asset]\n",
    "    #y = np.mean(log_pr.iloc[(1440+27):(1440+32), asset]) - log_pr.iloc[1440-1, asset]\n",
    "    \n",
    "    d = 10\n",
    "\n",
    "    for t in range(1440*121 - 30)[d::d]: # compute the predictions every 10 minutes\n",
    "        f = get_features(log_pr.iloc[t:(t+1440), asset], volu.iloc[t:(t+1440), asset])\n",
    "        fs = np.vstack((fs, f))\n",
    "        y = np.vstack((\n",
    "            y, \n",
    "            log_pr.iloc[t+1440+29, asset] - log_pr.iloc[t+1440-1, asset]\n",
    "        ))\n",
    "    '''\n",
    "    \n",
    "    fs = np.array(feature[asset])\n",
    "    y = np.array(ytrain[asset])\n",
    "    fs[:, [7,8]] = fs[:, [7,8]] / 10**8\n",
    "    fs = fs[:, flist]\n",
    "    \n",
    "    df = pd.DataFrame(fs, columns=['x' + str(i) for i in range(len(flist))])\n",
    "    df['y'] = y\n",
    "    \n",
    "    #model = forward_selected(df, 'y')\n",
    "    #print(model.summary())\n",
    "    \n",
    "    #lm = sm.OLS.from_formula('y ~ x0+x1+x2+x3+x4+x5+x6+x7+x8+x9+x10+x11+x12+x13+x14+x15', data=df)\n",
    "    #res = lm.fit()\n",
    "    #print(res.aic)\n",
    "    \n",
    "    model = LinearRegression()\n",
    "    model.fit(Xcom[:,flist], ycom)\n",
    "    \n",
    "    \n",
    "    #ftest = get_features(log_pr.iloc[1440*122:1440*123, asset], volu.iloc[1440*122:1440*123, asset])\n",
    "    ytest.append(log_pr.iloc[1440*1+29, asset] - log_pr.iloc[1440*1-1, asset])\n",
    "    \n",
    "    d = 10\n",
    "\n",
    "    for t in range(0,1440*62-1470,d): # compute the predictions every 10 minutes\n",
    "        #f = get_features(log_pr.iloc[t:(t+1440), asset], volu.iloc[t:(t+1440), asset])\n",
    "        #ftest = np.vstack((ftest, f))\n",
    "        ytest.append(log_pr.iloc[t+1440+29, asset] - log_pr.iloc[t+1440-1, asset])\n",
    "    \n",
    "    \n",
    "    ftest = np.array(feature_test[asset])\n",
    "    ytes = np.array(ytest)[asset*8781:(asset+1)*8781]\n",
    "    \n",
    "    ftest[:, [7,8]] = ftest[:, [7,8]] / 10**8\n",
    "    ftest = ftest[:, flist]\n",
    "    pred.append(model.predict(ftest))\n",
    "    \n",
    "    t_used = time.time() - t0\n",
    "    print(t_used, np.shape(ftest), np.shape(ytest), np.shape(pred))\n",
    "    \n",
    "    #test_res.append(np.corrcoef(pred[:,0], ytest[:,0])[0,1])\n",
    "\n"
   ]
  },
  {
   "cell_type": "code",
   "execution_count": 129,
   "id": "30adb251",
   "metadata": {},
   "outputs": [
    {
     "data": {
      "text/plain": [
       "[0.0770792559274461,\n",
       " 0.07418819549726179,\n",
       " 0.03828193567514306,\n",
       " 0.06034998468141834,\n",
       " 0.10309810865699137,\n",
       " 0.0145246309869994,\n",
       " 0.0327096036968216,\n",
       " 0.09901746342694641,\n",
       " 0.07107857748775046,\n",
       " 0.0013570549998650006]"
      ]
     },
     "execution_count": 129,
     "metadata": {},
     "output_type": "execute_result"
    }
   ],
   "source": [
    "[np.corrcoef(\n",
    "    np.array(pred).reshape((1,-1))[0, k*8781:(k+1)*8781],\n",
    "    np.array(ytest)[k*8781:(k+1)*8781]\n",
    ")[0, 1] for k in range(10)]"
   ]
  },
  {
   "cell_type": "code",
   "execution_count": 130,
   "id": "d7d85516",
   "metadata": {},
   "outputs": [
    {
     "name": "stdout",
     "output_type": "stream",
     "text": [
      "(17277, 3) (17277, 1)\n"
     ]
    },
    {
     "data": {
      "text/plain": [
       "array([[1.        , 0.05419808],\n",
       "       [0.05419808, 1.        ]])"
      ]
     },
     "execution_count": 130,
     "metadata": {},
     "output_type": "execute_result"
    }
   ],
   "source": [
    "print(np.shape(fs), np.shape(y))\n",
    "np.corrcoef(np.array(pred).reshape((1,-1)), np.array(ytest))"
   ]
  },
  {
   "cell_type": "code",
   "execution_count": 131,
   "id": "660439de",
   "metadata": {},
   "outputs": [],
   "source": [
    "with open('./model.pkl', 'wb') as f:\n",
    "        pickle.dump(model,f)"
   ]
  },
  {
   "cell_type": "code",
   "execution_count": 717,
   "id": "5a7dfd19",
   "metadata": {},
   "outputs": [
    {
     "name": "stdout",
     "output_type": "stream",
     "text": [
      "45.45023274421692 (25775, 5) (25775, 1)\n",
      "47.85417294502258 (25775, 6) (25775, 1)\n",
      "34.297744035720825 (19295, 7) (19295, 1)\n",
      "46.27171087265015 (25775, 5) (25775, 1)\n",
      "46.304991006851196 (25775, 7) (25775, 1)\n",
      "46.32366108894348 (25775, 5) (25775, 1)\n",
      "45.88448619842529 (25775, 5) (25775, 1)\n",
      "45.849770069122314 (25775, 5) (25775, 1)\n",
      "45.9497447013855 (25775, 5) (25775, 1)\n",
      "46.01285099983215 (25775, 7) (25775, 1)\n"
     ]
    }
   ],
   "source": [
    "# train the models for submission using last 4 months of data\n",
    "\n",
    "for asset in range(10):\n",
    "    t0 = time.time()\n",
    "    \n",
    "    d0 = 180\n",
    "    if asset == 2:\n",
    "        d0 = 135\n",
    "\n",
    "    fs = get_features(\n",
    "        log_pr.iloc[(-1440*d0-10):(-1440*(d0-1)-10), asset], \n",
    "        volu.iloc[(-1440*d0-10):(-1440*(d0-1)-10), asset], asset\n",
    "    )\n",
    "    y = log_pr.iloc[-1440*d0+29, asset] - log_pr.iloc[-1440*(d0-1)-1, asset]\n",
    "\n",
    "    '''\n",
    "    d = 10\n",
    "\n",
    "    for t in range(1440 * 0, 1440 * 60, d): \n",
    "        f = get_features(log_pr.iloc[t:(t+1440), asset], volu.iloc[t:(t+1440), asset])\n",
    "        fs = np.vstack((fs, f))\n",
    "        y = np.vstack((\n",
    "            y, \n",
    "            np.mean(log_pr.iloc[(t+1440+27):(t+1440+33), asset])\n",
    "        ))\n",
    "    '''\n",
    "    d = 10\n",
    "\n",
    "    for t in range(264960)[(-1440*d0):-1469:d]: # compute the predictions every 10 minutes\n",
    "        f = get_features(log_pr.iloc[t:(t+1440), asset], volu.iloc[t:(t+1440), asset], asset)\n",
    "        fs = np.vstack((fs, f))\n",
    "        y = np.vstack((\n",
    "            y, \n",
    "            log_pr.iloc[t+1440+29, asset] - log_pr.iloc[t+1440-1, asset]\n",
    "        ))\n",
    "        \n",
    "    fs[:, [7,8]] = fs[:, [7,8]] / 10**8\n",
    "    fs = fs[:, flist[asset]]\n",
    "    \n",
    "    df = pd.DataFrame(fs, columns=['x' + str(i) for i in range(len(flist[asset]))])\n",
    "    df['y'] = y\n",
    "    \n",
    "    #model = forward_selected(df, 'y')\n",
    "    #print(model.summary())\n",
    "    \n",
    "    t_used = time.time() - t0\n",
    "    print(t_used, np.shape(fs), np.shape(y))\n",
    "    \n",
    "    model = LinearRegression()\n",
    "    model.fit(fs, y)\n",
    "\n",
    "    #pred = model.predict(ftest)\n",
    "    #test_res.append(np.corrcoef(pred[:,0], ytest[:,0])[0,1])\n",
    "    with open('./model_{}.pkl'.format(asset),'wb') as f:\n",
    "        pickle.dump(model,f)\n",
    "    \n",
    "    #select = RFE(model, n_features_to_select=100, step=2).fit(fs, y)\n",
    "    #selected.append([i for i in range(p) if select.support_[i]])\n",
    "    #selected_rank.append(select.ranking_)"
   ]
  },
  {
   "cell_type": "code",
   "execution_count": 208,
   "id": "ec633f92",
   "metadata": {},
   "outputs": [],
   "source": [
    "variables = [f'm1_{i}' for i in range(1)]\\\n",
    "+ ['MACDslope']\\\n",
    "+ ['MACD[-1]']\\\n",
    "+ [f'RSI1_{i}' for i in range(2)]\\\n",
    "+ [f'RSI2_{i}' for i in range(2)]\\\n",
    "+ [f'VolChange_{i}' for i in range(2)]\\\n",
    "+ [f'zScore_{i}' for i in range(2)]\\\n",
    "+ [\"neg30logr\"] + [\"tDist\"]"
   ]
  },
  {
   "cell_type": "code",
   "execution_count": 209,
   "id": "30e58c62",
   "metadata": {},
   "outputs": [
    {
     "name": "stdout",
     "output_type": "stream",
     "text": [
      "0 ['MACDslope', 'RSI2_1', 'VolChange_1', 'zScore_0', 'neg30logr']\n",
      "1 ['MACDslope', 'RSI2_1', 'VolChange_0', 'zScore_0', 'zScore_1', 'neg30logr']\n",
      "2 ['MACDslope', 'RSI2_1', 'VolChange_0', 'VolChange_1', 'zScore_0', 'zScore_1', 'neg30logr']\n",
      "3 ['VolChange_0', 'VolChange_1', 'zScore_0', 'zScore_1', 'neg30logr']\n",
      "4 ['MACDslope', 'RSI2_1', 'VolChange_0', 'VolChange_1', 'zScore_0', 'zScore_1', 'neg30logr']\n",
      "5 ['VolChange_0', 'VolChange_1', 'zScore_0', 'zScore_1', 'neg30logr']\n",
      "6 ['VolChange_0', 'VolChange_1', 'zScore_0', 'zScore_1', 'neg30logr']\n",
      "7 ['MACDslope', 'RSI2_1', 'VolChange_0', 'VolChange_1', 'zScore_0']\n",
      "8 ['MACDslope', 'VolChange_1', 'zScore_0', 'zScore_1', 'neg30logr']\n",
      "9 ['MACDslope', 'RSI2_1', 'VolChange_0', 'VolChange_1', 'zScore_0', 'zScore_1', 'neg30logr']\n"
     ]
    }
   ],
   "source": [
    "flist = [[1,6,8,9,11],\n",
    "         [1,6,7,9,10,11],\n",
    "         [1,6,7,8,9,10,11],\n",
    "         [7,8,9,10,11],\n",
    "         [1,6,7,8,9,10,11],\n",
    "         [7,8,9,10,11],\n",
    "         [7,8,9,10,11],\n",
    "         [1,6,7,8,9],\n",
    "         [1,8,9,10,11],\n",
    "         [1,6,7,8,9,10,11]\n",
    "        ]\n",
    "\n",
    "for asset in range(10):\n",
    "    print(asset, [variables[fea] for fea in flist[asset]])"
   ]
  },
  {
   "cell_type": "code",
   "execution_count": 385,
   "id": "c4b6e14f",
   "metadata": {},
   "outputs": [
    {
     "name": "stdout",
     "output_type": "stream",
     "text": [
      "['RSI2_1', 'VolChange_0', 'VolChange_1', 'zScore_0', 'zScore_1', 'neg30logr']\n",
      "['RSI2_1', 'VolChange_0', 'VolChange_1', 'zScore_1', 'neg30logr']\n",
      "['VolChange_0', 'VolChange_1', 'zScore_0', 'zScore_1']\n",
      "['VolChange_0', 'VolChange_1', 'zScore_0', 'zScore_1']\n",
      "['RSI2_1', 'VolChange_0', 'VolChange_1', 'zScore_0', 'zScore_1', 'neg30logr']\n",
      "['VolChange_0', 'VolChange_1', 'zScore_0', 'zScore_1', 'neg30logr']\n",
      "['RSI2_1', 'VolChange_0', 'VolChange_1', 'zScore_0', 'zScore_1', 'neg30logr']\n",
      "['RSI2_1', 'VolChange_0', 'VolChange_1', 'zScore_0', 'neg30logr']\n",
      "['RSI2_1', 'VolChange_0', 'VolChange_1', 'zScore_0', 'zScore_1', 'neg30logr']\n",
      "['RSI2_1', 'VolChange_0', 'VolChange_1', 'zScore_0', 'zScore_1', 'neg30logr']\n"
     ]
    }
   ],
   "source": [
    "flist = [[6,7,8,9,10,11],\n",
    "         [6,7,8,10,11],\n",
    "         [7,8,9,10],#8\n",
    "         [7,8,9,10],#9\n",
    "         [6,7,8,9,10,11],#7\n",
    "         [7,8,9,10,11],\n",
    "         [6,7,8,9,10,11],\n",
    "         [6,7,8,9,11],\n",
    "         [6,7,8,9,10,11],#7\n",
    "         [6,7,8,9,10,11]\n",
    "        ]\n",
    "for asset in range(10):\n",
    "    print([variables[fea] for fea in flist[asset]])"
   ]
  },
  {
   "cell_type": "code",
   "execution_count": null,
   "id": "e3b24a13",
   "metadata": {},
   "outputs": [],
   "source": []
  }
 ],
 "metadata": {
  "kernelspec": {
   "display_name": "Python 3 (ipykernel)",
   "language": "python",
   "name": "python3"
  },
  "language_info": {
   "codemirror_mode": {
    "name": "ipython",
    "version": 3
   },
   "file_extension": ".py",
   "mimetype": "text/x-python",
   "name": "python",
   "nbconvert_exporter": "python",
   "pygments_lexer": "ipython3",
   "version": "3.9.7"
  }
 },
 "nbformat": 4,
 "nbformat_minor": 5
}
