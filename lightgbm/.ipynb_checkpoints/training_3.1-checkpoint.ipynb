{
 "cells": [
  {
   "cell_type": "code",
   "execution_count": 55,
   "id": "411f9cd7",
   "metadata": {},
   "outputs": [],
   "source": [
    "import os\n",
    "import datetime\n",
    "import time\n",
    "import pandas as pd\n",
    "import numpy as np\n",
    "import matplotlib.pyplot as plt\n",
    "import pickle\n",
    "import lightgbm as lgb\n",
    "from sklearn.linear_model import LinearRegression"
   ]
  },
  {
   "cell_type": "code",
   "execution_count": 2,
   "id": "acb761f5",
   "metadata": {},
   "outputs": [],
   "source": [
    "log_pr = pd.read_pickle(\"./log_price.df\")\n",
    "volu = pd.read_pickle(\"./volume_usd.df\")"
   ]
  },
  {
   "cell_type": "code",
   "execution_count": 3,
   "id": "947cc191",
   "metadata": {},
   "outputs": [],
   "source": [
    "def np_ewma_vectorized(data, window, method = \"WMS\"):\n",
    "\n",
    "    if method == \"WMS\":\n",
    "        alpha = 1 / window\n",
    "    elif method == \"EMA\":\n",
    "        alpha = 2 / (window + 1.0)\n",
    "    alpha_rev = 1 - alpha\n",
    "    n = data.shape[0]\n",
    "\n",
    "    pows = alpha_rev**(np.arange(n+1))\n",
    "\n",
    "    scale_arr = 1 / pows[:-1]\n",
    "    offset = data[0] * pows[1:]\n",
    "    pw0 = alpha * alpha_rev**(n-1)\n",
    "\n",
    "    mult = data * pw0 * scale_arr\n",
    "    cumsums = mult.cumsum()\n",
    "    out = offset + cumsums * scale_arr[::-1]\n",
    "    return out\n",
    "\n",
    "\n",
    "def MACD(A):\n",
    "    # Input: 1440 x 1 DataFrame\n",
    "    # Output: two 1440 x 1 numpy array\n",
    "    A = np.exp(A)\n",
    "        \n",
    "    # Get the 26-day EMA of the closing price\n",
    "    k = np_ewma_vectorized(A, 26)\n",
    "    # Get the 12-day EMA of the closing price\n",
    "    d = np_ewma_vectorized(A, 12)\n",
    "\n",
    "    # Subtract the 26-day EMA from the 12-Day EMA to get the MACD\n",
    "    macd = k - d\n",
    "\n",
    "    #Get the 9-Day EMA of the MACD for the Trigger line\n",
    "    macd_s = np.array(np_ewma_vectorized(macd, 9))\n",
    "\n",
    "    # Calculate the difference between the MACD - Trigger for the Convergence/Divergence value\n",
    "    #macd_h = macd - macd_s\n",
    "    \n",
    "    return k, d, np.array(macd)#, macd_s#, macd_h"
   ]
  },
  {
   "cell_type": "code",
   "execution_count": 4,
   "id": "844ca3b8",
   "metadata": {},
   "outputs": [],
   "source": [
    "def RSI_np(A, window_length=14):\n",
    "    \"\"\"\n",
    "    Calculate RSI\n",
    "    A: numpy array of log price\n",
    "    method : \"SMA\": simple moving average,\n",
    "            \"WMS\": Wilder Smoothing Method,\n",
    "            \"EMA\": exponential moving average\n",
    "    \n",
    "    Return RSI for last three periods\n",
    "    \"\"\"\n",
    "    # transform log-price to price\n",
    "    A = np.exp(A)\n",
    "    tmp = np.diff(A)\n",
    "\n",
    "    gain = np.clip(tmp, a_min = 0, a_max = None)\n",
    "    loss = np.abs(np.clip(tmp, a_min = None, a_max = 0))\n",
    "\n",
    "    avg_gain = np_ewma_vectorized(gain, window_length, 'WMS')#[-10:]\n",
    "    avg_loss = np_ewma_vectorized(loss, window_length, 'WMS')#[-10:]\n",
    "    \n",
    "    rsi1 = 100 - (100 * avg_loss / (avg_loss + avg_gain))\n",
    "        \n",
    "    avg_gain = np_ewma_vectorized(gain, window_length, 'EMA')#[-10:]\n",
    "    avg_loss = np_ewma_vectorized(loss, window_length, 'EMA')#[-10:]\n",
    "    \n",
    "    #rs = avg_gain / avg_loss\n",
    "    rsi2 = 100 - (100 * avg_loss / (avg_loss + avg_gain))\n",
    "    return rsi1[-2:], rsi2[-2:]"
   ]
  },
  {
   "cell_type": "code",
   "execution_count": 5,
   "id": "f1200874",
   "metadata": {},
   "outputs": [],
   "source": [
    "def volChanges(B, window_length=30):\n",
    "    vol0 = np.mean(B[-30:])\n",
    "    vol1 = np.mean(B[-60:-30])\n",
    "    vol2 = np.mean(B[-90:-60])\n",
    "    vol3 = np.mean(B[-120:-90])\n",
    "    # vol4 = np.mean(B[-180:-120])\n",
    "    \n",
    "    return np.array([vol2-vol3, vol1-vol2, vol0-vol1, vol0])"
   ]
  },
  {
   "cell_type": "code",
   "execution_count": 6,
   "id": "c1d5b7d5",
   "metadata": {},
   "outputs": [],
   "source": [
    "# z-score of log-price\n",
    "def zScorePr(A):\n",
    "    # Input: 1440 x 1 numpy array\n",
    "    # Output: 3 dim numpy array\n",
    "    # the moving average log-price of 30min, 1h, and 3h\n",
    "\n",
    "    A = np.hstack((A[0]*np.ones(90), A, A[-1]*np.ones(90)))\n",
    "    \n",
    "    # moving averages of 30 minutes\n",
    "    N = 15\n",
    "    pr_avg_0 = np.convolve(A[(90-N):-(91-N)], np.ones(2*N)/N/2, mode='valid')\n",
    "    \n",
    "    # 1 hour (60 minutes)\n",
    "    N = 30\n",
    "    pr_avg_1 = np.convolve(A[(90-N):-(91-N)], np.ones(2*N)/N/2, mode='valid')\n",
    "    \n",
    "    # 2 hour (120 minutes)\n",
    "    N = 60\n",
    "    pr_avg_2 = np.convolve(A[(90-N):-(91-N)], np.ones(2*N)/N/2, mode='valid')\n",
    "    \n",
    "    # 3 hours (180 minutes)\n",
    "    N = 90\n",
    "    pr_avg_3 = np.convolve(A[(90-N):-(91-N)], np.ones(2*N)/N/2, mode='valid')\n",
    "    \n",
    "    z0 = (A[-1] - pr_avg_0[-1]) / np.std(pr_avg_0)\n",
    "    z1 = (A[-1] - pr_avg_1[-1]) / np.std(pr_avg_1)\n",
    "    z2 = (A[-1] - pr_avg_2[-1]) / np.std(pr_avg_2)\n",
    "    z3 = (A[-1] - pr_avg_3[-1]) / np.std(pr_avg_3)\n",
    "    return np.array([z0, z1, z2, z3])"
   ]
  },
  {
   "cell_type": "code",
   "execution_count": 7,
   "id": "fdea2708",
   "metadata": {},
   "outputs": [],
   "source": [
    "def neg30logr(A):\n",
    "    return -(A[-1] - A[-30])"
   ]
  },
  {
   "cell_type": "code",
   "execution_count": 8,
   "id": "7be7a7e6",
   "metadata": {},
   "outputs": [],
   "source": [
    "def get_features(A, B):\n",
    "    #m1, m2 = mov_avg(A, B)\n",
    "    #macd1, _, macd = MACD(A[::30])\n",
    "    rsi1, rsi2 = RSI_np(A[::30])\n",
    "    return np.hstack((\n",
    "        #m1[-2:], #m2,\n",
    "        #macd1[-1], #macd[-1],\n",
    "        rsi1, rsi2,\n",
    "        volChanges(B)[2:], # 8 9\n",
    "        #getVolRatios(B),\n",
    "        #priceVolCor(A, B),\n",
    "        zScorePr(A)[[0,1]],\n",
    "        neg30logr(A)\n",
    "    )).reshape((1, -1))"
   ]
  },
  {
   "cell_type": "code",
   "execution_count": 10,
   "id": "e7fb8dae",
   "metadata": {},
   "outputs": [],
   "source": [
    "a_file = open(\"feature_train.pkl\", \"rb\")\n",
    "feature = pickle.load(a_file)\n",
    "a_file.close()\n",
    "\n",
    "a_file = open(\"feature_test.pkl\", \"rb\")\n",
    "feature_test = pickle.load(a_file)\n",
    "a_file.close()\n",
    "\n",
    "a_file = open(\"y_train.pkl\", \"rb\")\n",
    "ytrain = pickle.load(a_file)\n",
    "a_file.close()\n",
    "\n",
    "a_file = open(\"y_test.pkl\", \"rb\")\n",
    "ytest = pickle.load(a_file)\n",
    "a_file.close()"
   ]
  },
  {
   "cell_type": "code",
   "execution_count": 65,
   "id": "c736424e",
   "metadata": {},
   "outputs": [
    {
     "name": "stdout",
     "output_type": "stream",
     "text": [
      "0.28160691261291504 (8781, 6) (8781,) (1, 8781)\n",
      "0.2630650997161865 (8781, 5) (17562,) (2, 8781)\n",
      "0.2822568416595459 (8781, 3) (26343,) (3, 8781)\n",
      "0.263660192489624 (8781, 5) (35124,) (4, 8781)\n",
      "0.2749178409576416 (8781, 5) (43905,) (5, 8781)\n",
      "0.2636897563934326 (8781, 5) (52686,) (6, 8781)\n",
      "0.27444005012512207 (8781, 6) (61467,) (7, 8781)\n",
      "0.2783946990966797 (8781, 5) (70248,) (8, 8781)\n",
      "0.26543498039245605 (8781, 5) (79029,) (9, 8781)\n",
      "0.26503896713256836 (8781, 6) (87810,) (10, 8781)\n"
     ]
    }
   ],
   "source": [
    "# model selection with forward selection\n",
    "\n",
    "test_res = []\n",
    "selected_rank2 = []\n",
    "\n",
    "ytest = []\n",
    "pred = []\n",
    "\n",
    "flist = [[6,7,8,9,10,11],\n",
    "         [6,7,8,10,11],\n",
    "         [7,8,9,10],#8\n",
    "         [7,8,9,10],#9\n",
    "         [6,7,8,9,10,11],#7\n",
    "         [7,8,9,10,11],\n",
    "         [6,7,8,9,10,11],\n",
    "         [6,7,8,9,11],\n",
    "         [6,7,8,9,10,11],#7\n",
    "         [6,7,8,9,10,11]\n",
    "        ]\n",
    "#flist = [[6,7,8,9,10,11] for i in range(10)]\n",
    "\n",
    "flist = [[6,7,8,9,10,11],\n",
    "         [6,7,8,10,11],\n",
    "         [7,9,10],#8\n",
    "         [7,8,9,10,11],#9\n",
    "         [6,8,9,10,11],#7\n",
    "         [7,8,9,10,11],\n",
    "         [6,7,8,9,10,11],\n",
    "         [6,7,8,9,11],\n",
    "         [6,8,9,10,11],#7\n",
    "         [6,7,8,9,10,11]\n",
    "        ]\n",
    "\n",
    "\n",
    "for asset in range(10):\n",
    "    t0 = time.time()\n",
    "    '''\n",
    "    fs = get_features(log_pr.iloc[:1440, asset], volu.iloc[:1440, asset])\n",
    "    y = log_pr.iloc[1440+29, asset] - log_pr.iloc[1440-1, asset]\n",
    "    #y = np.mean(log_pr.iloc[(1440+27):(1440+32), asset]) - log_pr.iloc[1440-1, asset]\n",
    "    \n",
    "    d = 10\n",
    "\n",
    "    for t in range(1440*121 - 30)[d::d]: # compute the predictions every 10 minutes\n",
    "        f = get_features(log_pr.iloc[t:(t+1440), asset], volu.iloc[t:(t+1440), asset])\n",
    "        fs = np.vstack((fs, f))\n",
    "        y = np.vstack((\n",
    "            y, \n",
    "            log_pr.iloc[t+1440+29, asset] - log_pr.iloc[t+1440-1, asset]\n",
    "        ))\n",
    "    '''\n",
    "    \n",
    "    fs = np.array(feature[asset])\n",
    "    y = np.array(ytrain[asset])\n",
    "    fs[:, [7,8]] = fs[:, [7,8]] / 10**8\n",
    "    fs = fs[:, flist[asset]]\n",
    "    \n",
    "    df = pd.DataFrame(fs, columns=['x' + str(i) for i in range(len(flist[asset]))])\n",
    "    df['y'] = y\n",
    "    \n",
    "    #model = forward_selected(df, 'y')\n",
    "    #print(model.summary())\n",
    "    \n",
    "    #lm = sm.OLS.from_formula('y ~ x0+x1+x2+x3+x4+x5+x6+x7+x8+x9+x10+x11+x12+x13+x14+x15', data=df)\n",
    "    #res = lm.fit()\n",
    "    #print(res.aic)\n",
    "    \n",
    "    model = lgb.LGBMRegressor(max_depth=4)\n",
    "    model.fit(fs, y.reshape(-1))\n",
    "    \n",
    "    \n",
    "    #ftest = get_features(log_pr.iloc[1440*122:1440*123, asset], volu.iloc[1440*122:1440*123, asset])\n",
    "    ytest.append(log_pr.iloc[1440*123+29, asset] - log_pr.iloc[1440*123-1, asset])\n",
    "    \n",
    "    d = 10\n",
    "\n",
    "    for t in range(1440*122+10,264960-1470,d): # compute the predictions every 10 minutes\n",
    "        #f = get_features(log_pr.iloc[t:(t+1440), asset], volu.iloc[t:(t+1440), asset])\n",
    "        #ftest = np.vstack((ftest, f))\n",
    "        ytest.append(log_pr.iloc[t+1440+29, asset] - log_pr.iloc[t+1440-1, asset])\n",
    "    \n",
    "    \n",
    "    ftest = np.array(feature_test[asset])\n",
    "    ytes = np.array(ytest)[asset*8781:(asset+1)*8781]\n",
    "    \n",
    "    ftest[:, [7,8]] = ftest[:, [7,8]] / 10**8\n",
    "    ftest = ftest[:, flist[asset]]\n",
    "    pred.append(model.predict(ftest))\n",
    "    \n",
    "    t_used = time.time() - t0\n",
    "    print(t_used, np.shape(ftest), np.shape(ytest), np.shape(pred))\n",
    "    \n",
    "    #test_res.append(np.corrcoef(pred[:,0], ytest[:,0])[0,1])\n",
    "\n"
   ]
  },
  {
   "cell_type": "code",
   "execution_count": 66,
   "id": "2849d4a7",
   "metadata": {},
   "outputs": [
    {
     "data": {
      "text/plain": [
       "[0.010836383738919125,\n",
       " 0.1169297758683808,\n",
       " 0.02342520790854519,\n",
       " 0.04238230309737402,\n",
       " 0.1008387324450836,\n",
       " 0.08288067715244377,\n",
       " 0.018581252550871376,\n",
       " 0.058358035138732195,\n",
       " 0.07507176251373311,\n",
       " -0.019113218320043125]"
      ]
     },
     "execution_count": 66,
     "metadata": {},
     "output_type": "execute_result"
    }
   ],
   "source": [
    "[np.corrcoef(\n",
    "    np.array(pred).reshape((1,-1))[0, k*8781:(k+1)*8781],\n",
    "    np.array(ytest)[k*8781:(k+1)*8781]\n",
    ")[0, 1] for k in range(10)]"
   ]
  },
  {
   "cell_type": "code",
   "execution_count": 67,
   "id": "1fd6a525",
   "metadata": {},
   "outputs": [
    {
     "name": "stdout",
     "output_type": "stream",
     "text": [
      "(17421, 6) (17421, 1)\n"
     ]
    },
    {
     "data": {
      "text/plain": [
       "array([[1.        , 0.04776831],\n",
       "       [0.04776831, 1.        ]])"
      ]
     },
     "execution_count": 67,
     "metadata": {},
     "output_type": "execute_result"
    }
   ],
   "source": [
    "print(np.shape(fs), np.shape(y))\n",
    "np.corrcoef(np.array(pred).reshape((1,-1)), np.array(ytest))"
   ]
  },
  {
   "cell_type": "code",
   "execution_count": null,
   "id": "ae8f1a54",
   "metadata": {},
   "outputs": [],
   "source": []
  },
  {
   "cell_type": "code",
   "execution_count": null,
   "id": "2d7de381",
   "metadata": {},
   "outputs": [],
   "source": []
  }
 ],
 "metadata": {
  "kernelspec": {
   "display_name": "Python 3 (ipykernel)",
   "language": "python",
   "name": "python3"
  },
  "language_info": {
   "codemirror_mode": {
    "name": "ipython",
    "version": 3
   },
   "file_extension": ".py",
   "mimetype": "text/x-python",
   "name": "python",
   "nbconvert_exporter": "python",
   "pygments_lexer": "ipython3",
   "version": "3.9.7"
  }
 },
 "nbformat": 4,
 "nbformat_minor": 5
}
