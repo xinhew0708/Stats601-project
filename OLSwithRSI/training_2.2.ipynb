{
 "cells": [
  {
   "cell_type": "code",
   "execution_count": 220,
   "id": "3d8cd29c",
   "metadata": {},
   "outputs": [],
   "source": [
    "import os\n",
    "import datetime\n",
    "import time\n",
    "import pandas as pd\n",
    "import numpy as np\n",
    "import matplotlib.pyplot as plt\n",
    "import pickle\n",
    "from scipy.stats import t\n",
    "from scipy.ndimage.filters import uniform_filter1d\n",
    "from sklearn.linear_model import LinearRegression\n",
    "from sklearn.linear_model import RidgeCV\n",
    "from sklearn.svm import SVR\n",
    "from sklearn.feature_selection import RFE"
   ]
  },
  {
   "cell_type": "code",
   "execution_count": 2,
   "id": "e5ab8938",
   "metadata": {},
   "outputs": [],
   "source": [
    "log_pr = pd.read_pickle(\"./log_price.df\")\n",
    "volu = pd.read_pickle(\"./volume_usd.df\")"
   ]
  },
  {
   "cell_type": "code",
   "execution_count": 9,
   "id": "a854cc87",
   "metadata": {},
   "outputs": [],
   "source": [
    "# moving averages of different time span\n",
    "def mov_avg(A, B, window_length=60):\n",
    "    # Input: two 1440 x 1 numpy arrays\n",
    "    # Output: two 288 x 1 numpy arrays\n",
    "    \n",
    "    pr_avg = uniform_filter1d(A, size=window_length, mode='nearest')[::30]\n",
    "    vo_avg = uniform_filter1d(B, size=window_length, mode='nearest')[::30]\n",
    "\n",
    "    return pr_avg[-10:], vo_avg[-5:]"
   ]
  },
  {
   "cell_type": "code",
   "execution_count": 10,
   "id": "61a1747f",
   "metadata": {},
   "outputs": [],
   "source": [
    "def MACD(A):\n",
    "    # Input: 1440 x 1 DataFrame\n",
    "    # Output: two 1440 x 1 numpy array\n",
    "    df = np.exp(A)\n",
    "        \n",
    "    # Get the 26-day EMA of the closing price\n",
    "    k = df.ewm(span=26, adjust=False, min_periods=26).mean()\n",
    "    # Get the 12-day EMA of the closing price\n",
    "    d = df.ewm(span=12, adjust=False, min_periods=12).mean()\n",
    "\n",
    "    # Subtract the 26-day EMA from the 12-Day EMA to get the MACD\n",
    "    macd = k - d\n",
    "\n",
    "    # Get the 9-Day EMA of the MACD for the Trigger line\n",
    "    macd_s = np.array(macd.ewm(span=9, adjust=False, min_periods=9).mean())\n",
    "\n",
    "    # Calculate the difference between the MACD - Trigger for the Convergence/Divergence value\n",
    "    #macd_h = macd - macd_s\n",
    "    \n",
    "    return np.array(macd), macd_s #, macd_h"
   ]
  },
  {
   "cell_type": "code",
   "execution_count": 79,
   "id": "216783a2",
   "metadata": {},
   "outputs": [],
   "source": [
    "def np_ewma_vectorized(data, window):\n",
    "\n",
    "    alpha = 2 / (window + 1.0)\n",
    "    alpha_rev = 1 - alpha\n",
    "    n = data.shape[0]\n",
    "\n",
    "    pows = alpha_rev**(np.arange(n+1))\n",
    "\n",
    "    scale_arr = 1 / pows[:-1]\n",
    "    offset = data[0] * pows[1:]\n",
    "    pw0 = alpha * alpha_rev**(n-1)\n",
    "\n",
    "    mult = data * pw0 * scale_arr\n",
    "    cumsums = mult.cumsum()\n",
    "    out = offset + cumsums * scale_arr[::-1]\n",
    "    return out\n",
    "\n",
    "\n",
    "def MACD(A):\n",
    "    # Input: 1440 x 1 DataFrame\n",
    "    # Output: two 1440 x 1 numpy array\n",
    "    A = np.exp(A)\n",
    "        \n",
    "    # Get the 26-day EMA of the closing price\n",
    "    k = np_ewma_vectorized(A, 26)\n",
    "    # Get the 12-day EMA of the closing price\n",
    "    d = np_ewma_vectorized(A, 12)\n",
    "\n",
    "    # Subtract the 26-day EMA from the 12-Day EMA to get the MACD\n",
    "    macd = k - d\n",
    "\n",
    "    #Get the 9-Day EMA of the MACD for the Trigger line\n",
    "    macd_s = np.array(np_ewma_vectorized(macd, 9))\n",
    "\n",
    "    # Calculate the difference between the MACD - Trigger for the Convergence/Divergence value\n",
    "    #macd_h = macd - macd_s\n",
    "    \n",
    "    return k, d, np.array(macd)#, macd_s#, macd_h"
   ]
  },
  {
   "cell_type": "code",
   "execution_count": 12,
   "id": "03b661d7",
   "metadata": {},
   "outputs": [
    {
     "ename": "ValueError",
     "evalue": "not enough values to unpack (expected 4, got 3)",
     "output_type": "error",
     "traceback": [
      "\u001b[0;31m---------------------------------------------------------------------------\u001b[0m",
      "\u001b[0;31mValueError\u001b[0m                                Traceback (most recent call last)",
      "Input \u001b[0;32mIn [12]\u001b[0m, in \u001b[0;36m<cell line: 2>\u001b[0;34m()\u001b[0m\n\u001b[1;32m      1\u001b[0m A \u001b[38;5;241m=\u001b[39m log_pr\u001b[38;5;241m.\u001b[39miloc[\u001b[38;5;241m20000\u001b[39m:\u001b[38;5;241m21440\u001b[39m:\u001b[38;5;241m30\u001b[39m,\u001b[38;5;241m0\u001b[39m]\n\u001b[0;32m----> 2\u001b[0m k, d, macd1, macd2 \u001b[38;5;241m=\u001b[39m MACD(A)\n\u001b[1;32m      3\u001b[0m plt\u001b[38;5;241m.\u001b[39mplot(A)\n",
      "\u001b[0;31mValueError\u001b[0m: not enough values to unpack (expected 4, got 3)"
     ]
    }
   ],
   "source": [
    "A = log_pr.iloc[20000:21440:30,0]\n",
    "k, d, macd1, macd2 = MACD(A)\n",
    "plt.plot(A)\n",
    "#plt.plot(k)\n",
    "#plt.plot(d)"
   ]
  },
  {
   "cell_type": "code",
   "execution_count": 13,
   "id": "c8d6be44",
   "metadata": {},
   "outputs": [
    {
     "ename": "NameError",
     "evalue": "name 'k' is not defined",
     "output_type": "error",
     "traceback": [
      "\u001b[0;31m---------------------------------------------------------------------------\u001b[0m",
      "\u001b[0;31mNameError\u001b[0m                                 Traceback (most recent call last)",
      "Input \u001b[0;32mIn [13]\u001b[0m, in \u001b[0;36m<cell line: 1>\u001b[0;34m()\u001b[0m\n\u001b[0;32m----> 1\u001b[0m plt\u001b[38;5;241m.\u001b[39mplot(\u001b[43mk\u001b[49m)\n\u001b[1;32m      2\u001b[0m plt\u001b[38;5;241m.\u001b[39mplot(d)\n",
      "\u001b[0;31mNameError\u001b[0m: name 'k' is not defined"
     ]
    }
   ],
   "source": [
    "plt.plot(k)\n",
    "plt.plot(d)"
   ]
  },
  {
   "cell_type": "code",
   "execution_count": 191,
   "id": "1ff9ad87",
   "metadata": {},
   "outputs": [],
   "source": [
    "def RSI_np(A, window_length=14, method=\"WMS\"):\n",
    "    \"\"\"\n",
    "    Calculate RSI\n",
    "    A: numpy array of log price\n",
    "    method : \"SMA\": simple moving average,\n",
    "            \"WMS\": Wilder Smoothing Method,\n",
    "            \"EMA\": exponential moving average\n",
    "    \n",
    "    Return RSI for last three periods\n",
    "    \"\"\"\n",
    "    # transform log-price to price\n",
    "    A = np.exp(A)\n",
    "    tmp = np.diff(A)\n",
    "\n",
    "    gain = np.clip(tmp, a_min = 0, a_max = None)\n",
    "    loss = np.abs(np.clip(tmp, a_min = None, a_max = 0))\n",
    "\n",
    "    if method == \"WMS\":\n",
    "        avg_gain = np_ewma_vectorized(gain, window_length)#[-10:]\n",
    "        avg_loss = np_ewma_vectorized(loss, window_length)#[-10:]\n",
    "    else:\n",
    "        avg_gain = np_ewma_vectorized(gain, window_length)#[-10:]\n",
    "        avg_loss = np_ewma_vectorized(loss, window_length)#[-10:]\n",
    "    \n",
    "    #rs = avg_gain / avg_loss\n",
    "    rsi = 100 - (100 * avg_loss / (avg_loss + avg_gain))\n",
    "    return rsi[-1]-rsi[-2]"
   ]
  },
  {
   "cell_type": "code",
   "execution_count": 170,
   "id": "bb98111d",
   "metadata": {},
   "outputs": [
    {
     "data": {
      "text/plain": [
       "[<matplotlib.lines.Line2D at 0x7fed71bda5e0>]"
      ]
     },
     "execution_count": 170,
     "metadata": {},
     "output_type": "execute_result"
    },
    {
     "data": {
      "image/png": "[encoded data removed]",
      "text/plain": [
       "<Figure size 432x288 with 1 Axes>"
      ]
     },
     "metadata": {
      "needs_background": "light"
     },
     "output_type": "display_data"
    }
   ],
   "source": [
    "A = log_pr.iloc[1440*139:(1440*140+30):30,3]\n",
    "#rsi = RSI_np(A)\n",
    "plt.plot(A.values)\n",
    "plt.plot(rsi / 1000 + 0.3)"
   ]
  },
  {
   "cell_type": "code",
   "execution_count": 168,
   "id": "79270447",
   "metadata": {},
   "outputs": [
    {
     "data": {
      "text/plain": [
       "[<matplotlib.lines.Line2D at 0x7fed3032a160>]"
      ]
     },
     "execution_count": 168,
     "metadata": {},
     "output_type": "execute_result"
    },
    {
     "data": {
      "image/png": "[encoded data removed]",
      "text/plain": [
       "<Figure size 432x288 with 1 Axes>"
      ]
     },
     "metadata": {
      "needs_background": "light"
     },
     "output_type": "display_data"
    }
   ],
   "source": [
    "plt.plot(rsi)"
   ]
  },
  {
   "cell_type": "code",
   "execution_count": 169,
   "id": "72d34ce5",
   "metadata": {},
   "outputs": [
    {
     "data": {
      "text/plain": [
       "array([[1.       , 0.3899643],\n",
       "       [0.3899643, 1.       ]])"
      ]
     },
     "execution_count": 169,
     "metadata": {},
     "output_type": "execute_result"
    }
   ],
   "source": [
    "np.corrcoef((A[1:].values - A[:-1].values), rsi)\n"
   ]
  },
  {
   "cell_type": "code",
   "execution_count": 17,
   "id": "6d99c0e1",
   "metadata": {},
   "outputs": [],
   "source": [
    "def volChanges(B, window_length=30):\n",
    "    vol0 = np.mean(B[-30:])\n",
    "    vol1 = np.mean(B[-60:-30])\n",
    "    vol2 = np.mean(B[-90:-60])\n",
    "    vol3 = np.mean(B[-120:-90])\n",
    "    vol4 = np.mean(B[-180:-120])\n",
    "    \n",
    "    return np.array([vol3-vol4, vol2-vol3, vol1-vol2, vol0-vol1, vol0])"
   ]
  },
  {
   "cell_type": "code",
   "execution_count": 18,
   "id": "7a8d9f73",
   "metadata": {},
   "outputs": [],
   "source": [
    "def getVolRatios(vol, volWindow=[10, 30, 60]):  \n",
    "    # Input: 1440 x 1 numpy array\n",
    "    # the window here is in minutes\n",
    "    # Output: 3 dim numpy array\n",
    "    \n",
    "    return np.array([sum(vol[-win:]) for win in volWindow]) / sum(vol)"
   ]
  },
  {
   "cell_type": "code",
   "execution_count": 19,
   "id": "adbf3271",
   "metadata": {},
   "outputs": [],
   "source": [
    "def priceVolCor(A, B, time=[1440, 720, 360]):\n",
    "    # Input: two 1440 x 1 numpy arrays\n",
    "    # Output: 3 dim numpy array\n",
    "    \n",
    "    pv_cor = A\n",
    "    temp = np.hstack((A, B))\n",
    "    pv_cor = [np.corrcoef(temp[-t:]) for t in time]\n",
    "    return np.array(pv_cor)"
   ]
  },
  {
   "cell_type": "code",
   "execution_count": 226,
   "id": "2903ead2",
   "metadata": {},
   "outputs": [],
   "source": [
    "# z-score of log-price\n",
    "def zScorePr(A):\n",
    "    # Input: 1440 x 1 numpy array\n",
    "    # Output: 3 dim numpy array\n",
    "    # the moving average log-price of 30min, 1h, and 3h\n",
    "    \n",
    "    # moving averages of 30 minutes\n",
    "    pr_avg_0 = uniform_filter1d(A, size=30, mode='nearest')\n",
    "    print(pr_avg_0, A[-1])\n",
    "    \n",
    "    # 1 hour (60 minutes)\n",
    "    pr_avg_1 = uniform_filter1d(A, size=60, mode='nearest')\n",
    "    \n",
    "    # 2 hour (120 minutes)\n",
    "    pr_avg_2 = uniform_filter1d(A, size=120, mode='nearest')\n",
    "    \n",
    "    # 3 hours (180 minutes)\n",
    "    pr_avg_3 = uniform_filter1d(A, size=180, mode='nearest')\n",
    "    \n",
    "    z0 = (A[-1] - pr_avg_0[-1]) / np.std(pr_avg_0)\n",
    "    z1 = (A[-1] - pr_avg_1[-1]) / np.std(pr_avg_1)\n",
    "    z2 = (A[-1] - pr_avg_2[-1]) / np.std(pr_avg_2)\n",
    "    z3 = (A[-1] - pr_avg_3[-1]) / np.std(pr_avg_3)\n",
    "    return np.array([z0, z1, z2, z3])"
   ]
  },
  {
   "cell_type": "code",
   "execution_count": 232,
   "id": "46062e31",
   "metadata": {},
   "outputs": [
    {
     "data": {
      "text/plain": [
       "array([3.5 , 3.  , 3.5 , 3.25, 3.25, 5.5 , 4.5 , 4.25])"
      ]
     },
     "execution_count": 232,
     "metadata": {},
     "output_type": "execute_result"
    }
   ],
   "source": [
    "uniform_filter1d([2., 8., 0., 4., 1., 8., 9., 0.], size=4, mode='nearest')"
   ]
  },
  {
   "cell_type": "code",
   "execution_count": 4,
   "id": "f9006524",
   "metadata": {},
   "outputs": [],
   "source": [
    "def neg30logr(A):\n",
    "    return -(A[-1] - A[-30])"
   ]
  },
  {
   "cell_type": "code",
   "execution_count": 222,
   "id": "83105f86",
   "metadata": {},
   "outputs": [],
   "source": [
    "def get_features(A, B):\n",
    "    m1, m2 = mov_avg(A, B)\n",
    "    macd1, _, macd = MACD(A[::30])\n",
    "    #print(len(m1), len(m2))\n",
    "    #print(len(macd1), len(macd))\n",
    "    #print(np.shape(RSI_np(A[::30])))\n",
    "    return np.hstack((\n",
    "        #m1, m2,\n",
    "        #macd1, macd,\n",
    "        #RSI_np(A[::30]),\n",
    "        #volChanges(B),\n",
    "        #getVolRatios(B),\n",
    "        #priceVolCor(A, B),\n",
    "        zScorePr(A),\n",
    "        neg30logr(A)\n",
    "    )).reshape((1, -1))"
   ]
  },
  {
   "cell_type": "code",
   "execution_count": 227,
   "id": "81c11847",
   "metadata": {},
   "outputs": [
    {
     "name": "stdout",
     "output_type": "stream",
     "text": [
      "[-0.00031745 -0.00036686 -0.00041043 ... -0.01276805 -0.01279274\n",
      " -0.01282182] -0.013185678398132474\n",
      "1440 [[-0.07032783 -0.07556241 -0.1013895  -0.11950342  0.00156663]]\n"
     ]
    }
   ],
   "source": [
    "f = get_features(log_pr.iloc[:1440,0], volu.iloc[:1440,0])\n",
    "p = np.shape(f)\n",
    "print(len(log_pr.iloc[0:1440,0]), f)"
   ]
  },
  {
   "cell_type": "code",
   "execution_count": 218,
   "id": "a3f2fea7",
   "metadata": {},
   "outputs": [
    {
     "name": "stdout",
     "output_type": "stream",
     "text": [
      "49.02937602996826 (5761, 124) (5761,)\n",
      "49.289610147476196 (5761, 124) (11522,)\n",
      "49.583842039108276 (5761, 124) (17283,)\n",
      "49.998798847198486 (5761, 124) (23044,)\n",
      "49.80769157409668 (5761, 124) (28805,)\n",
      "49.708346128463745 (5761, 124) (34566,)\n",
      "49.53101110458374 (5761, 124) (40327,)\n",
      "50.53310489654541 (5761, 124) (46088,)\n",
      "50.23157596588135 (5761, 124) (51849,)\n",
      "50.877293825149536 (5761, 124) (57610,)\n"
     ]
    }
   ],
   "source": [
    "\n",
    "test_res = []\n",
    "selected_rank2 = []\n",
    "\n",
    "ytest = []\n",
    "pred = []\n",
    "\n",
    "for asset in range(10):\n",
    "    t0 = time.time()\n",
    "    \n",
    "    fs = get_features(log_pr.iloc[:1440, asset], volu.iloc[:1440, asset])\n",
    "    y = log_pr.iloc[1440+29, asset] - log_pr.iloc[1440-1, asset]\n",
    "    \n",
    "    d = 10\n",
    "\n",
    "    for t in range(1440*140 - 30)[d::d]: # compute the predictions every 10 minutes\n",
    "        f = get_features(log_pr.iloc[t:(t+1440), asset], volu.iloc[t:(t+1440), asset])\n",
    "        fs = np.vstack((fs, f))\n",
    "        y = np.vstack((y, log_pr.iloc[t+1440+29, asset] - log_pr.iloc[t+1440-1, asset]))\n",
    "\n",
    "    #t_used = time.time() - t0\n",
    "    #print(t_used, np.shape(fs), np.shape(y))\n",
    "    \n",
    "    ftest = get_features(log_pr.iloc[10:1450, asset], volu.iloc[10:1450, asset])\n",
    "    ytest.append(log_pr.iloc[1450+29, asset] - log_pr.iloc[1450-1, asset])\n",
    "    \n",
    "    d = 10\n",
    "\n",
    "    for t in range(264960-1470)[- 1440*40::d]: # compute the predictions every 10 minutes\n",
    "        f = get_features(log_pr.iloc[t:(t+1440), asset], volu.iloc[t:(t+1440), asset])\n",
    "        ftest = np.vstack((ftest, f))\n",
    "        ytest.append(log_pr.iloc[t+1440+29, asset] - log_pr.iloc[t+1440-1, asset])\n",
    "    \n",
    "    t_used = time.time() - t0\n",
    "    print(t_used, np.shape(ftest), np.shape(ytest))\n",
    "    \n",
    "    model = LinearRegression()\n",
    "    model.fit(fs, y)\n",
    "\n",
    "    pred.append(model.predict(ftest))\n",
    "    #test_res.append(np.corrcoef(pred[:,0], ytest[:,0])[0,1])\n",
    "    #with open('./model_{}.pkl'.format(asset),'wb') as f:\n",
    "    #    pickle.dump(model,f)\n",
    "    \n",
    "    #select = RFE(model, n_features_to_select=40, step=1).fit(fs, y)\n",
    "    #selected.append([i for i in range(p) if select.support_[i]])\n",
    "    #selected_rank2.append(select.ranking_)"
   ]
  },
  {
   "cell_type": "code",
   "execution_count": 219,
   "id": "09bc7cf9",
   "metadata": {},
   "outputs": [
    {
     "name": "stdout",
     "output_type": "stream",
     "text": [
      "(20157, 124) (20157, 1)\n"
     ]
    },
    {
     "data": {
      "text/plain": [
       "array([[1.        , 0.03850146],\n",
       "       [0.03850146, 1.        ]])"
      ]
     },
     "execution_count": 219,
     "metadata": {},
     "output_type": "execute_result"
    }
   ],
   "source": [
    "print(np.shape(fs), np.shape(y))\n",
    "np.corrcoef(np.array(pred).reshape((1,-1)), np.array(ytest))"
   ]
  },
  {
   "cell_type": "code",
   "execution_count": null,
   "id": "ccaf62d0",
   "metadata": {},
   "outputs": [],
   "source": [
    "np.corrcoef(np.array(pred).reshape((1,-1)), np.array(ytest))[0,1]\n",
    "# volchange + volratio + zscore + neg 30 log return\n",
    "0.043"
   ]
  },
  {
   "cell_type": "code",
   "execution_count": null,
   "id": "1c0b9313",
   "metadata": {},
   "outputs": [],
   "source": [
    "np.corrcoef(np.array(pred).reshape((1,-1)), np.array(ytest))[0,1]\n",
    "# volchange + zscore + neg 30 log return\n",
    "0.04774884"
   ]
  },
  {
   "cell_type": "code",
   "execution_count": 203,
   "id": "5bc217e3",
   "metadata": {},
   "outputs": [
    {
     "data": {
      "text/plain": [
       "0.043513578177361206"
      ]
     },
     "execution_count": 203,
     "metadata": {},
     "output_type": "execute_result"
    }
   ],
   "source": [
    "np.corrcoef(np.array(pred).reshape((1,-1)), np.array(ytest))[0,1]\n",
    "# volchange + neg 30 log return"
   ]
  },
  {
   "cell_type": "code",
   "execution_count": 186,
   "id": "fc065a7c",
   "metadata": {},
   "outputs": [
    {
     "data": {
      "text/plain": [
       "0.033666411192918584"
      ]
     },
     "execution_count": 186,
     "metadata": {},
     "output_type": "execute_result"
    }
   ],
   "source": [
    "np.corrcoef(np.array(pred).reshape((1,-1)), np.array(ytest))[0,1]\n",
    "# only neg 30 log return"
   ]
  },
  {
   "cell_type": "code",
   "execution_count": 143,
   "id": "87636761",
   "metadata": {},
   "outputs": [],
   "source": [
    "np.savetxt('rank5.csv', np.array(selected_rank2).astype(int), delimiter=\",\")"
   ]
  },
  {
   "cell_type": "code",
   "execution_count": 34,
   "id": "5a7dfd19",
   "metadata": {},
   "outputs": [
    {
     "name": "stdout",
     "output_type": "stream",
     "text": [
      "24.14228582382202 (17710, 54) (17710, 1)\n",
      "23.785460948944092 (17710, 54) (17710, 1)\n",
      "23.681946992874146 (17710, 54) (17710, 1)\n",
      "23.733747959136963 (17710, 54) (17710, 1)\n",
      "23.906121969223022 (17710, 54) (17710, 1)\n",
      "23.739688873291016 (17710, 54) (17710, 1)\n",
      "23.616945266723633 (17710, 54) (17710, 1)\n",
      "23.680667877197266 (17710, 54) (17710, 1)\n",
      "23.42979097366333 (17710, 54) (17710, 1)\n",
      "23.85346508026123 (17710, 54) (17710, 1)\n"
     ]
    }
   ],
   "source": [
    "# train the models for submission\n",
    "selected = []\n",
    "selected_rank = []\n",
    "\n",
    "for asset in range(10):\n",
    "    t0 = time.time()\n",
    "\n",
    "    fs = get_features(log_pr.iloc[14400:(1440 * 11), asset], volu.iloc[14400:(1440 * 11), asset])\n",
    "    y = np.mean(log_pr.iloc[(1440 * 11+27):(1440 * 11+33), asset])\n",
    "\n",
    "    '''\n",
    "    d = 10\n",
    "\n",
    "    for t in range(1440 * 0, 1440 * 60, d): \n",
    "        f = get_features(log_pr.iloc[t:(t+1440), asset], volu.iloc[t:(t+1440), asset])\n",
    "        fs = np.vstack((fs, f))\n",
    "        y = np.vstack((\n",
    "            y, \n",
    "            np.mean(log_pr.iloc[(t+1440+27):(t+1440+33), asset])\n",
    "        ))\n",
    "'''\n",
    "    d = 10\n",
    "\n",
    "    for t in range(1440 * 60, 264960 - 1470, d): # compute the predictions every 10 minutes\n",
    "        f = get_features(log_pr.iloc[t:(t+1440), asset], volu.iloc[t:(t+1440), asset])\n",
    "        fs = np.vstack((fs, f))\n",
    "        y = np.vstack((\n",
    "            y, \n",
    "            np.mean(log_pr.iloc[(t+1440+27):(t+1440+33), asset])\n",
    "        ))\n",
    "    \n",
    "    t_used = time.time() - t0\n",
    "    print(t_used, np.shape(fs), np.shape(y))\n",
    "    \n",
    "    model = LinearRegression()\n",
    "    model.fit(fs, y)\n",
    "\n",
    "    #pred = model.predict(ftest)\n",
    "    #test_res.append(np.corrcoef(pred[:,0], ytest[:,0])[0,1])\n",
    "    with open('./model_{}.pkl'.format(asset),'wb') as f:\n",
    "        pickle.dump(model,f)\n",
    "    \n",
    "    select = RFE(model, n_features_to_select=100, step=2).fit(fs, y)\n",
    "    selected.append([i for i in range(p) if select.support_[i]])\n",
    "    selected_rank.append(select.ranking_)"
   ]
  },
  {
   "cell_type": "code",
   "execution_count": 176,
   "id": "100adadc",
   "metadata": {},
   "outputs": [],
   "source": [
    "test = []\n",
    "MODELS = []\n",
    "for i in range(0,10):\n",
    "    with open('model_{}.pkl'.format(i), 'rb') as f:\n",
    "        model = pickle.load(f)\n",
    "        MODELS.append(model)\n",
    "\n",
    "for asset in range(10):\n",
    "    predicts = []\n",
    "    ytest = []\n",
    "\n",
    "    d = 10\n",
    "\n",
    "    for t in range(264960-1470)[- 1440*60+5::d]: # compute the predictions every 10 minutes\n",
    "        f = get_features(log_pr.iloc[t:(t+1440), asset], volu.iloc[t:(t+1440), asset])\n",
    "        ytest.append(log_pr.iloc[t+1440+29, asset] - log_pr.iloc[t+1440-1, asset])\n",
    "        \n",
    "        pred = MODELS[asset].predict(f) - log_pr.iloc[t+1440-1, asset]\n",
    "        predicts.append(pred)\n",
    "\n",
    "    test.append(np.corrcoef(\n",
    "        np.array(predicts).reshape((1,-1)), \n",
    "        np.array(ytest).reshape(1,-1)\n",
    "    )[0,1])"
   ]
  },
  {
   "cell_type": "code",
   "execution_count": 177,
   "id": "573ba587",
   "metadata": {},
   "outputs": [
    {
     "data": {
      "text/plain": [
       "0.08906513161874165"
      ]
     },
     "execution_count": 177,
     "metadata": {},
     "output_type": "execute_result"
    }
   ],
   "source": [
    "sum(test) / 10"
   ]
  },
  {
   "cell_type": "code",
   "execution_count": 178,
   "id": "02f17ee4",
   "metadata": {},
   "outputs": [
    {
     "data": {
      "text/plain": [
       "[0.05552181175117214,\n",
       " 0.12847399421691935,\n",
       " 0.07896424414989169,\n",
       " 0.03742755167751043,\n",
       " 0.17606325016316782,\n",
       " 0.08454616419995781,\n",
       " 0.0699229650306859,\n",
       " 0.025679004415454634,\n",
       " 0.13893199839422718,\n",
       " 0.09512033218842937]"
      ]
     },
     "execution_count": 178,
     "metadata": {},
     "output_type": "execute_result"
    }
   ],
   "source": [
    "test"
   ]
  },
  {
   "cell_type": "code",
   "execution_count": null,
   "id": "ec633f92",
   "metadata": {},
   "outputs": [],
   "source": []
  }
 ],
 "metadata": {
  "kernelspec": {
   "display_name": "Python 3 (ipykernel)",
   "language": "python",
   "name": "python3"
  },
  "language_info": {
   "codemirror_mode": {
    "name": "ipython",
    "version": 3
   },
   "file_extension": ".py",
   "mimetype": "text/x-python",
   "name": "python",
   "nbconvert_exporter": "python",
   "pygments_lexer": "ipython3",
   "version": "3.9.7"
  }
 },
 "nbformat": 4,
 "nbformat_minor": 5
}
