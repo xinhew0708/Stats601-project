{
 "cells": [
  {
   "cell_type": "code",
   "execution_count": 1,
   "metadata": {},
   "outputs": [],
   "source": [
    "import os\n",
    "import datetime\n",
    "import time\n",
    "import pandas as pd\n",
    "import numpy as np\n",
    "import matplotlib.pyplot as plt"
   ]
  },
  {
   "cell_type": "code",
   "execution_count": 2,
   "metadata": {},
   "outputs": [],
   "source": [
    "# Load the data frames\n",
    "\n",
    "log_pr = pd.read_pickle(\"./log_price.df\")\n",
    "volu = pd.read_pickle(\"./volume_usd.df\")"
   ]
  },
  {
   "cell_type": "code",
   "execution_count": 3,
   "metadata": {},
   "outputs": [
    {
     "data": {
      "text/html": [
       "<div>\n",
       "<style scoped>\n",
       "    .dataframe tbody tr th:only-of-type {\n",
       "        vertical-align: middle;\n",
       "    }\n",
       "\n",
       "    .dataframe tbody tr th {\n",
       "        vertical-align: top;\n",
       "    }\n",
       "\n",
       "    .dataframe thead th {\n",
       "        text-align: right;\n",
       "    }\n",
       "</style>\n",
       "<table border=\"1\" class=\"dataframe\">\n",
       "  <thead>\n",
       "    <tr style=\"text-align: right;\">\n",
       "      <th></th>\n",
       "      <th>0</th>\n",
       "      <th>1</th>\n",
       "      <th>2</th>\n",
       "      <th>3</th>\n",
       "      <th>4</th>\n",
       "      <th>5</th>\n",
       "      <th>6</th>\n",
       "      <th>7</th>\n",
       "      <th>8</th>\n",
       "      <th>9</th>\n",
       "    </tr>\n",
       "    <tr>\n",
       "      <th>timestamp</th>\n",
       "      <th></th>\n",
       "      <th></th>\n",
       "      <th></th>\n",
       "      <th></th>\n",
       "      <th></th>\n",
       "      <th></th>\n",
       "      <th></th>\n",
       "      <th></th>\n",
       "      <th></th>\n",
       "      <th></th>\n",
       "    </tr>\n",
       "  </thead>\n",
       "  <tbody>\n",
       "    <tr>\n",
       "      <th>2021-07-01 00:00:00</th>\n",
       "      <td>0.000051</td>\n",
       "      <td>-0.002754</td>\n",
       "      <td>-0.001690</td>\n",
       "      <td>-0.000106</td>\n",
       "      <td>0.002195</td>\n",
       "      <td>0.000217</td>\n",
       "      <td>-0.001661</td>\n",
       "      <td>0.000492</td>\n",
       "      <td>-0.000917</td>\n",
       "      <td>-0.000769</td>\n",
       "    </tr>\n",
       "    <tr>\n",
       "      <th>2021-07-01 00:01:00</th>\n",
       "      <td>-0.002184</td>\n",
       "      <td>-0.001334</td>\n",
       "      <td>0.000652</td>\n",
       "      <td>0.000254</td>\n",
       "      <td>0.000969</td>\n",
       "      <td>0.000204</td>\n",
       "      <td>-0.002689</td>\n",
       "      <td>0.001095</td>\n",
       "      <td>-0.000665</td>\n",
       "      <td>-0.000493</td>\n",
       "    </tr>\n",
       "    <tr>\n",
       "      <th>2021-07-01 00:02:00</th>\n",
       "      <td>-0.000792</td>\n",
       "      <td>0.001095</td>\n",
       "      <td>0.001293</td>\n",
       "      <td>0.000294</td>\n",
       "      <td>-0.003068</td>\n",
       "      <td>0.000814</td>\n",
       "      <td>-0.005329</td>\n",
       "      <td>0.000172</td>\n",
       "      <td>0.002367</td>\n",
       "      <td>0.000202</td>\n",
       "    </tr>\n",
       "    <tr>\n",
       "      <th>2021-07-01 00:03:00</th>\n",
       "      <td>-0.000399</td>\n",
       "      <td>0.000931</td>\n",
       "      <td>0.001274</td>\n",
       "      <td>-0.000695</td>\n",
       "      <td>-0.002457</td>\n",
       "      <td>0.000626</td>\n",
       "      <td>-0.002712</td>\n",
       "      <td>0.000216</td>\n",
       "      <td>0.003020</td>\n",
       "      <td>0.000335</td>\n",
       "    </tr>\n",
       "    <tr>\n",
       "      <th>2021-07-01 00:04:00</th>\n",
       "      <td>-0.001120</td>\n",
       "      <td>0.001134</td>\n",
       "      <td>0.001266</td>\n",
       "      <td>-0.000583</td>\n",
       "      <td>-0.003706</td>\n",
       "      <td>0.000280</td>\n",
       "      <td>-0.004193</td>\n",
       "      <td>0.000299</td>\n",
       "      <td>0.002340</td>\n",
       "      <td>0.000187</td>\n",
       "    </tr>\n",
       "    <tr>\n",
       "      <th>...</th>\n",
       "      <td>...</td>\n",
       "      <td>...</td>\n",
       "      <td>...</td>\n",
       "      <td>...</td>\n",
       "      <td>...</td>\n",
       "      <td>...</td>\n",
       "      <td>...</td>\n",
       "      <td>...</td>\n",
       "      <td>...</td>\n",
       "      <td>...</td>\n",
       "    </tr>\n",
       "    <tr>\n",
       "      <th>2021-12-31 23:55:00</th>\n",
       "      <td>0.202473</td>\n",
       "      <td>-0.953688</td>\n",
       "      <td>1.822158</td>\n",
       "      <td>-0.014819</td>\n",
       "      <td>-0.455037</td>\n",
       "      <td>-0.433889</td>\n",
       "      <td>-0.248988</td>\n",
       "      <td>-0.444827</td>\n",
       "      <td>0.051673</td>\n",
       "      <td>-0.097036</td>\n",
       "    </tr>\n",
       "    <tr>\n",
       "      <th>2021-12-31 23:56:00</th>\n",
       "      <td>0.202848</td>\n",
       "      <td>-0.953987</td>\n",
       "      <td>1.822320</td>\n",
       "      <td>-0.014359</td>\n",
       "      <td>-0.455589</td>\n",
       "      <td>-0.433965</td>\n",
       "      <td>-0.249405</td>\n",
       "      <td>-0.444581</td>\n",
       "      <td>0.051369</td>\n",
       "      <td>-0.097438</td>\n",
       "    </tr>\n",
       "    <tr>\n",
       "      <th>2021-12-31 23:57:00</th>\n",
       "      <td>0.203726</td>\n",
       "      <td>-0.954003</td>\n",
       "      <td>1.822973</td>\n",
       "      <td>-0.014348</td>\n",
       "      <td>-0.455433</td>\n",
       "      <td>-0.434181</td>\n",
       "      <td>-0.250450</td>\n",
       "      <td>-0.444742</td>\n",
       "      <td>0.051289</td>\n",
       "      <td>-0.097625</td>\n",
       "    </tr>\n",
       "    <tr>\n",
       "      <th>2021-12-31 23:58:00</th>\n",
       "      <td>0.203586</td>\n",
       "      <td>-0.954238</td>\n",
       "      <td>1.824952</td>\n",
       "      <td>-0.015121</td>\n",
       "      <td>-0.456122</td>\n",
       "      <td>-0.433732</td>\n",
       "      <td>-0.251122</td>\n",
       "      <td>-0.444934</td>\n",
       "      <td>0.051144</td>\n",
       "      <td>-0.098005</td>\n",
       "    </tr>\n",
       "    <tr>\n",
       "      <th>2021-12-31 23:59:00</th>\n",
       "      <td>0.204902</td>\n",
       "      <td>-0.953462</td>\n",
       "      <td>1.825777</td>\n",
       "      <td>-0.014998</td>\n",
       "      <td>-0.456032</td>\n",
       "      <td>-0.434631</td>\n",
       "      <td>-0.250175</td>\n",
       "      <td>-0.445717</td>\n",
       "      <td>0.051664</td>\n",
       "      <td>-0.098144</td>\n",
       "    </tr>\n",
       "  </tbody>\n",
       "</table>\n",
       "<p>264960 rows × 10 columns</p>\n",
       "</div>"
      ],
      "text/plain": [
       "                            0         1         2         3         4  \\\n",
       "timestamp                                                               \n",
       "2021-07-01 00:00:00  0.000051 -0.002754 -0.001690 -0.000106  0.002195   \n",
       "2021-07-01 00:01:00 -0.002184 -0.001334  0.000652  0.000254  0.000969   \n",
       "2021-07-01 00:02:00 -0.000792  0.001095  0.001293  0.000294 -0.003068   \n",
       "2021-07-01 00:03:00 -0.000399  0.000931  0.001274 -0.000695 -0.002457   \n",
       "2021-07-01 00:04:00 -0.001120  0.001134  0.001266 -0.000583 -0.003706   \n",
       "...                       ...       ...       ...       ...       ...   \n",
       "2021-12-31 23:55:00  0.202473 -0.953688  1.822158 -0.014819 -0.455037   \n",
       "2021-12-31 23:56:00  0.202848 -0.953987  1.822320 -0.014359 -0.455589   \n",
       "2021-12-31 23:57:00  0.203726 -0.954003  1.822973 -0.014348 -0.455433   \n",
       "2021-12-31 23:58:00  0.203586 -0.954238  1.824952 -0.015121 -0.456122   \n",
       "2021-12-31 23:59:00  0.204902 -0.953462  1.825777 -0.014998 -0.456032   \n",
       "\n",
       "                            5         6         7         8         9  \n",
       "timestamp                                                              \n",
       "2021-07-01 00:00:00  0.000217 -0.001661  0.000492 -0.000917 -0.000769  \n",
       "2021-07-01 00:01:00  0.000204 -0.002689  0.001095 -0.000665 -0.000493  \n",
       "2021-07-01 00:02:00  0.000814 -0.005329  0.000172  0.002367  0.000202  \n",
       "2021-07-01 00:03:00  0.000626 -0.002712  0.000216  0.003020  0.000335  \n",
       "2021-07-01 00:04:00  0.000280 -0.004193  0.000299  0.002340  0.000187  \n",
       "...                       ...       ...       ...       ...       ...  \n",
       "2021-12-31 23:55:00 -0.433889 -0.248988 -0.444827  0.051673 -0.097036  \n",
       "2021-12-31 23:56:00 -0.433965 -0.249405 -0.444581  0.051369 -0.097438  \n",
       "2021-12-31 23:57:00 -0.434181 -0.250450 -0.444742  0.051289 -0.097625  \n",
       "2021-12-31 23:58:00 -0.433732 -0.251122 -0.444934  0.051144 -0.098005  \n",
       "2021-12-31 23:59:00 -0.434631 -0.250175 -0.445717  0.051664 -0.098144  \n",
       "\n",
       "[264960 rows x 10 columns]"
      ]
     },
     "execution_count": 3,
     "metadata": {},
     "output_type": "execute_result"
    }
   ],
   "source": [
    "log_pr"
   ]
  },
  {
   "cell_type": "code",
   "execution_count": null,
   "metadata": {},
   "outputs": [],
   "source": [
    "# Check the log-prices of the 10 assets\n",
    "\n",
    "log_pr.plot(figsize=(12, 8))"
   ]
  },
  {
   "cell_type": "code",
   "execution_count": null,
   "metadata": {},
   "outputs": [],
   "source": [
    "volu.plot()"
   ]
  },
  {
   "cell_type": "markdown",
   "metadata": {},
   "source": [
    "# Construct Features"
   ]
  },
  {
   "cell_type": "markdown",
   "metadata": {},
   "source": [
    "## Relative Strength Index (RSI)"
   ]
  },
  {
   "cell_type": "code",
   "execution_count": null,
   "metadata": {},
   "outputs": [],
   "source": [
    "def RSI(df,window_length):\n",
    "    # transform log-price to price\n",
    "    df = np.exp(df)\n",
    "    # Calculate Price Differences\n",
    "    df['diff'] = df.diff(1)\n",
    "    # Calculate Avg. Gains/Losses\n",
    "    df['gain'] = df['diff'].clip(lower=0)\n",
    "    df['loss'] = df['diff'].clip(upper=0).abs()\n",
    "    # Get initial Averages\n",
    "    df['avg_gain'] = df['gain'].rolling(window=window_length, min_periods=window_length).mean()\n",
    "    #[:window_length+1]\n",
    "    df['avg_loss'] = df['loss'].rolling(window=window_length, min_periods=window_length).mean()\n",
    "    #[:window_length+1]\n",
    "    # Get WMS averages\n",
    "    # Average Gains\n",
    "    for i, row in enumerate(df['avg_gain'].iloc[window_length+1:]):\n",
    "        df['avg_gain'].iloc[i + window_length + 1] =\\\n",
    "            (df['avg_gain'].iloc[i + window_length] *\n",
    "             (window_length - 1) +\n",
    "             df['gain'].iloc[i + window_length + 1])\\\n",
    "            / window_length\n",
    "    # Average Losses\n",
    "    for i, row in enumerate(df['avg_loss'].iloc[window_length+1:]):\n",
    "        df['avg_loss'].iloc[i + window_length + 1] =\\\n",
    "            (df['avg_loss'].iloc[i + window_length] *\n",
    "             (window_length - 1) +\n",
    "             df['loss'].iloc[i + window_length + 1])\\\n",
    "            / window_length\n",
    "    # Calculate RS Values\n",
    "    df['rs'] = df['avg_gain'] / df['avg_loss']\n",
    "    # Calculate RSI Values\n",
    "    df['rsi'] = 100 - (100 / (1.0 + df['rs']))\n",
    "    return (df['rsi'])\n"
   ]
  },
  {
   "cell_type": "code",
   "execution_count": null,
   "metadata": {},
   "outputs": [],
   "source": [
    "RSI = log_pr.apply(RSI,window_length=10)"
   ]
  },
  {
   "cell_type": "code",
   "execution_count": null,
   "metadata": {},
   "outputs": [],
   "source": [
    "RSI.to_pickle(\"RSI.df\")"
   ]
  },
  {
   "cell_type": "markdown",
   "metadata": {},
   "source": [
    "## moving average convergence divergence (MACD)"
   ]
  },
  {
   "cell_type": "code",
   "execution_count": null,
   "metadata": {},
   "outputs": [],
   "source": [
    "# def MACD(df,timewindow1 = 26,timewindow2 = 12):\n",
    "#     # transform log-price to price\n",
    "#     df = np.exp(df)\n",
    "#     # Get the 26-day EMA of the closing price\n",
    "#     k = df.ewm(span=timewindow1, adjust=False, min_periods=timewindow1).mean()\n",
    "#     # Get the 12-day EMA of the closing price\n",
    "#     d = df.ewm(span=timewindow2, adjust=False, min_periods=timewindow2).mean()\n",
    "#     # Subtract the 26-day EMA from the 12-Day EMA to get the MACD\n",
    "#     macd = k - d\n",
    "#     print(macd)\n",
    "#     # Get the 9-Day EMA of the MACD for the Trigger line\n",
    "#     macd_s = macd.ewm(span=9, adjust=False, min_periods=9).mean()\n",
    "#     # Calculate the difference between the MACD - Trigger for the Convergence/Divergence value\n",
    "#     macd_h = macd - macd_s\n",
    "#     df['macd'] = df.index.map(macd)\n",
    "#     df['macd_h'] = df.index.map(macd_h)\n",
    "#     df['macd_s'] = df.index.map(macd_s)\n",
    "#     return (df[['macd','macd_h','macd_s']])"
   ]
  },
  {
   "cell_type": "code",
   "execution_count": null,
   "metadata": {},
   "outputs": [],
   "source": [
    "macd_df = pd.DataFrame()\n",
    "macd_s_df = pd.DataFrame()\n",
    "macd_h_df = pd.DataFrame()"
   ]
  },
  {
   "cell_type": "code",
   "execution_count": null,
   "metadata": {},
   "outputs": [],
   "source": [
    "for i in range(10):\n",
    "    df = np.exp(log_pr[i])\n",
    "    # Get the 26-day EMA of the closing price\n",
    "    k = df.ewm(span=26, adjust=False, min_periods=26).mean()\n",
    "    # Get the 12-day EMA of the closing price\n",
    "    d = df.ewm(span=12, adjust=False, min_periods=12).mean()\n",
    "    # Subtract the 26-day EMA from the 12-Day EMA to get the MACD\n",
    "    macd = k - d\n",
    "    macd_df[i] = macd\n",
    "    #Get the 9-Day EMA of the MACD for the Trigger line\n",
    "    macd_s = macd.ewm(span=9, adjust=False, min_periods=9).mean()\n",
    "    macd_s_df[i] = macd_s\n",
    "    # Calculate the difference between the MACD - Trigger for the Convergence/Divergence value\n",
    "    macd_h = macd - macd_s\n",
    "    macd_h_df[i] = macd_h\n",
    "    # return (df[['macd','macd_h','macd_s']])"
   ]
  },
  {
   "cell_type": "code",
   "execution_count": null,
   "metadata": {},
   "outputs": [],
   "source": [
    "macd_df.to_pickle(\"macd.df\")\n",
    "macd_s_df.to_pickle(\"macd_s.df\")\n",
    "macd_h_df.to_pickle(\"macd_h.df\")"
   ]
  },
  {
   "cell_type": "markdown",
   "metadata": {},
   "source": [
    "## Volume and Log Price Ratios"
   ]
  },
  {
   "cell_type": "code",
   "execution_count": 9,
   "metadata": {},
   "outputs": [],
   "source": [
    "def getVolPriceRatios(A, B, priceWindow = 5, volWindow = 5):  # Window here is in minutes\n",
    "  PriceFeature = A.rolling(priceWindow).sum()\n",
    "  VolFeature = B.rolling(volWindow).sum()\n",
    "\n",
    "  PriceFeature = A/PriceFeature\n",
    "  VolFeature = B/VolFeature\n",
    "\n",
    "  return PriceFeature, VolFeature\n",
    "\n",
    "\n",
    "PriceRatio, VolRatio = getVolPriceRatios(log_pr, volu)"
   ]
  },
  {
   "cell_type": "code",
   "execution_count": 10,
   "metadata": {},
   "outputs": [],
   "source": [
    "PriceRatio.to_pickle(\"logpriceRatio.df\")\n",
    "VolRatio.to_pickle(\"volRatio.df\")"
   ]
  },
  {
   "cell_type": "code",
   "execution_count": null,
   "metadata": {},
   "outputs": [],
   "source": [
    "# moving averages of different time span\n",
    "# and differences between short-term and long-term\n",
    "# moving averages of log-price (if dif is set to True)\n",
    "def mov_avg(A, B, j=10, dif=True):\n",
    "    \n",
    "    # 30 minutes\n",
    "    pr_avg_0 = A.rolling(window=30).mean().iloc[29::j, :]\n",
    "    vo_avg_0 = B.rolling(window=30).mean().iloc[29::j, :]\n",
    "    \n",
    "    # 1 hour (60 minutes)\n",
    "    pr_avg_1 = A.rolling(window=60).mean().iloc[59::j, :]\n",
    "    vo_avg_1 = B.rolling(window=60).mean().iloc[59::j, :]\n",
    "    \n",
    "    # 3 hours (180 minutes)\n",
    "    pr_avg_3 = A.rolling(window=180).mean().iloc[179::j, :]\n",
    "    vo_avg_3 = B.rolling(window=180).mean().iloc[179::j, :]\n",
    "    \n",
    "    # stack the dfs together\n",
    "    pr_avg = pd.concat([pr_avg_0, pr_avg_1, pr_avg_3], axis=0)\n",
    "    vo_avg = pd.concat([vo_avg_0, vo_avg_1, vo_avg_3], axis=0)\n",
    "    \n",
    "    if dif:\n",
    "        pr_dif = pd.concat([\n",
    "            pr_avg_0.iloc[30:, :] - pr_avg_1, \n",
    "            pr_avg_0.iloc[150:, :] - pr_avg_3,\n",
    "            pr_avg_1.iloc[120:, :] - pr_avg_3,\n",
    "        ], axis=0)\n",
    "        return (pr_avg, vo_avg, pr_dif)\n",
    "    \n",
    "    return (pr_avg, vo_avg)"
   ]
  },
  {
   "cell_type": "code",
   "execution_count": null,
   "metadata": {},
   "outputs": [],
   "source": [
    "# changes in log-price\n",
    "def cha_pr(A):\n",
    "    # return: a scaler of the minutely changes in log-price\n",
    "    # we can construct more complicated features based on the relative change\n",
    "    return (A.iloc[1:, :] - A.iloc[:-1, :])"
   ]
  },
  {
   "cell_type": "code",
   "execution_count": null,
   "metadata": {},
   "outputs": [],
   "source": [
    "# z-score of log-price\n",
    "def z_score_pr(A):\n",
    "    # return: a 3 x 10 dataframe of z-scores based on\n",
    "    # the moving average log-price of 30min, 1h, and 3h\n",
    "    \n",
    "    # moving averages of 30 minutes\n",
    "    pr_avg_0 = A.rolling(window=30).mean().iloc[29:, :]\n",
    "    \n",
    "    # 1 hour (60 minutes)\n",
    "    pr_avg_1 = A.rolling(window=60).mean().iloc[59:, :]\n",
    "    \n",
    "    # 3 hours (180 minutes)\n",
    "    pr_avg_3 = A.rolling(window=180).mean().iloc[179:, :]\n",
    "    \n",
    "    z0 = (A.iloc[-1, :] - pr_avg_0.iloc[-1, :]) / pr_avg_0.std()\n",
    "    z1 = (A.iloc[-1, :] - pr_avg_1.iloc[-1, :]) / pr_avg_1.std()\n",
    "    z3 = (A.iloc[-1, :] - pr_avg_3.iloc[-1, :]) / pr_avg_3.std()\n",
    "    return (pd.concat([z1, z2, z3], axis=1).T)"
   ]
  },
  {
   "cell_type": "code",
   "execution_count": null,
   "metadata": {},
   "outputs": [],
   "source": []
  },
  {
   "cell_type": "code",
   "execution_count": null,
   "metadata": {},
   "outputs": [],
   "source": []
  },
  {
   "cell_type": "code",
   "execution_count": null,
   "metadata": {},
   "outputs": [],
   "source": []
  },
  {
   "cell_type": "code",
   "execution_count": null,
   "metadata": {},
   "outputs": [],
   "source": [
    "# An example of get_r_hat\n",
    "\n",
    "def get_r_hat(A, B): \n",
    "    \"\"\"\n",
    "        A: 1440-by-10 dataframe of log prices with columns log_pr_0, ... , log_pr_9\n",
    "        B: 1440-by-10 dataframe of trading volumes with columns volu_0, ... , volu_9    \n",
    "        return: a numpy array of length 10, corresponding to the predictions for the forward 30-minutes returns of assets 0, 1, 2, ..., 9\n",
    "    \"\"\"\n",
    "    \n",
    "    return -(A.iloc[-1] - A.iloc[-30]).values # Use the negative 30-minutes backward log-returns to predict the 30-minutes forward log-returns"
   ]
  },
  {
   "cell_type": "code",
   "execution_count": null,
   "metadata": {},
   "outputs": [],
   "source": [
    "# Generate r_hat every 10 minutes\n",
    "\n",
    "t0 = time.time()\n",
    "dt = datetime.timedelta(days=1)\n",
    "r_hat = pd.DataFrame(index=log_pr.index[30::10], columns=np.arange(10), dtype=np.float64)\n",
    "for t in log_pr.index[30::10]: # compute the predictions every 10 minutes\n",
    "    r_hat.loc[t, :] = get_r_hat(log_pr.loc[(t - dt):t], volu.loc[(t - dt):t])\n",
    "t_used = time.time() - t0\n",
    "print(t_used)\n",
    "    "
   ]
  },
  {
   "cell_type": "code",
   "execution_count": null,
   "metadata": {},
   "outputs": [],
   "source": [
    "# Compute true forward log_returns every 10 minutes\n",
    "r_fwd = (log_pr.shift(-30) - log_pr).iloc[30::10].rename(columns={f\"log_pr_{i}\": i for i in range(10)})\n"
   ]
  },
  {
   "cell_type": "code",
   "execution_count": null,
   "metadata": {},
   "outputs": [],
   "source": [
    "# Correlation for every asset\n",
    "r_fwd.corrwith(r_hat)"
   ]
  },
  {
   "cell_type": "code",
   "execution_count": null,
   "metadata": {},
   "outputs": [],
   "source": [
    "# Overall correlation (The ranking is based on this metric on the testing dataset)\n",
    "\n",
    "r_fwd_all = r_fwd.iloc[:-3].values.ravel() # the final 3 rows are NaNs. \n",
    "r_hat_all = r_hat.iloc[:-3].values.ravel()\n",
    "np.corrcoef(r_fwd_all, r_hat_all)[0, 1]"
   ]
  }
 ],
 "metadata": {
  "kernelspec": {
   "display_name": "Python3.8",
   "language": "python",
   "name": "python3.8"
  },
  "language_info": {
   "codemirror_mode": {
    "name": "ipython",
    "version": 3
   },
   "file_extension": ".py",
   "mimetype": "text/x-python",
   "name": "python",
   "nbconvert_exporter": "python",
   "pygments_lexer": "ipython3",
   "version": "3.8.0"
  }
 },
 "nbformat": 4,
 "nbformat_minor": 4
}
